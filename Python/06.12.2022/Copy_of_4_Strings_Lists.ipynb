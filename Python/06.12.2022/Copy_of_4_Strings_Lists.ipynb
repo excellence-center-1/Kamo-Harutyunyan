{
  "nbformat": 4,
  "nbformat_minor": 0,
  "metadata": {
    "colab": {
      "provenance": [],
      "collapsed_sections": [
        "IlcI6fmsN_uB",
        "LHftxs-EN_44",
        "dmoTwkv4i-qa",
        "pQUGymHpamDz",
        "1ZGhA0LuamP5",
        "67REeinFvRuF",
        "iayYQx2pama8",
        "u2Gm7jc3aoDA",
        "WjsdZN_7dm8g",
        "kX7Hk-uZh_eo"
      ]
    },
    "kernelspec": {
      "name": "python3",
      "display_name": "Python 3"
    }
  },
  "cells": [
    {
      "cell_type": "markdown",
      "metadata": {
        "id": "ZNZQkBLfN7oZ"
      },
      "source": [
        "A string is created by enclosing text in quotes. You can use either single quotes,`'`, or double quotes, `\"`. A triple-quote can be used for multi-line strings. Here are some examples:"
      ]
    },
    {
      "cell_type": "code",
      "metadata": {
        "id": "nFAOJjhGN_Yc",
        "colab": {
          "base_uri": "https://localhost:8080/"
        },
        "outputId": "b5b1ba25-5341-4405-a8d9-741c0751600a"
      },
      "source": [
        "a = \"Hello\" # assign string to a variable\n",
        "print('Class of a: ', type(a))\n",
        "print(a)\n",
        "\n",
        "b = 'Hello'\n",
        "print(b)"
      ],
      "execution_count": null,
      "outputs": [
        {
          "output_type": "stream",
          "name": "stdout",
          "text": [
            "Class of a:  <class 'str'>\n",
            "Hello\n",
            "Hello\n"
          ]
        }
      ]
    },
    {
      "cell_type": "code",
      "metadata": {
        "id": "wAJdvyZXN_nk",
        "colab": {
          "base_uri": "https://localhost:8080/"
        },
        "outputId": "18897091-0932-4663-b95c-0643a9dd062e"
      },
      "source": [
        "# multiline string\n",
        "a = '''line 1, \n",
        "line 2,\n",
        "line 3,\n",
        "line 4.'''\n",
        "\n",
        "\n",
        "print(a)"
      ],
      "execution_count": null,
      "outputs": [
        {
          "output_type": "stream",
          "name": "stdout",
          "text": [
            "line 1, \n",
            "line 2,\n",
            "line 3,\n",
            "line 4.\n"
          ]
        }
      ]
    },
    {
      "cell_type": "markdown",
      "metadata": {
        "id": "FjPjCHu3jx7g"
      },
      "source": [
        "**Empty string:** The empty string `''` is the string equivalent of the number 0. It is a string with\n",
        "nothing in it. We have seen it before, in the print statement’s optional argument, `sep=''`."
      ]
    },
    {
      "cell_type": "code",
      "metadata": {
        "id": "Y50JN0lna50M",
        "colab": {
          "base_uri": "https://localhost:8080/"
        },
        "outputId": "fe9701f9-22ed-4c35-a34f-10df7a7b8658"
      },
      "source": [
        "print('1', '2', '3', sep='*', end='')\n",
        "print('hjgjhg')"
      ],
      "execution_count": null,
      "outputs": [
        {
          "output_type": "stream",
          "name": "stdout",
          "text": [
            "1*2*3hjgjhg\n"
          ]
        }
      ]
    },
    {
      "cell_type": "markdown",
      "metadata": {
        "id": "atPgBV-vj_2B"
      },
      "source": [
        "**Length:** To get the length of a string (how many characters it has), use the built-in function `len`.\n",
        "For example,"
      ]
    },
    {
      "cell_type": "code",
      "metadata": {
        "id": "aiHHiROAjyQY",
        "colab": {
          "base_uri": "https://localhost:8080/"
        },
        "outputId": "557a48fe-c255-422f-b25b-20c2d50f633f"
      },
      "source": [
        "a = 'Hello'\n",
        "len(a)"
      ],
      "execution_count": null,
      "outputs": [
        {
          "output_type": "execute_result",
          "data": {
            "text/plain": [
              "5"
            ]
          },
          "metadata": {},
          "execution_count": 8
        }
      ]
    },
    {
      "cell_type": "markdown",
      "metadata": {
        "id": "IlcI6fmsN_uB"
      },
      "source": [
        "# Indexing\n",
        "\n",
        "Like many other popular programming languages, strings in Python are arrays of bytes representing unicode characters.\n",
        "However, Python does not have a character data type, a single character is simply a string with a length of 1.\n",
        "Square brackets can be used to access elements of the string."
      ]
    },
    {
      "cell_type": "code",
      "metadata": {
        "id": "oYyzV9y-N_zU",
        "colab": {
          "base_uri": "https://localhost:8080/"
        },
        "outputId": "c7144418-e4a2-4c69-a49a-5338ac76779e"
      },
      "source": [
        "a = \"Hello, World!\"\n",
        "print('First character of string a:', a[0]) \n",
        "print('Second character of string a:', a[1]) "
      ],
      "execution_count": null,
      "outputs": [
        {
          "output_type": "stream",
          "name": "stdout",
          "text": [
            "First character of string a: H\n",
            "Second character of string a: e\n"
          ]
        }
      ]
    },
    {
      "cell_type": "code",
      "metadata": {
        "id": "mJgDBCl7mJXv",
        "colab": {
          "base_uri": "https://localhost:8080/"
        },
        "outputId": "313458da-dfa0-4ad3-fe29-adfdbce79550"
      },
      "source": [
        "print('Last character of string a:', a[-1]) \n",
        "print('Second-to-last character of string a:', a[-2]) "
      ],
      "execution_count": null,
      "outputs": [
        {
          "output_type": "stream",
          "name": "stdout",
          "text": [
            "Last character of string a: !\n",
            "Second-to-last character of string a: d\n"
          ]
        }
      ]
    },
    {
      "cell_type": "code",
      "metadata": {
        "id": "AXMFnoQpCiX2",
        "colab": {
          "base_uri": "https://localhost:8080/",
          "height": 35
        },
        "outputId": "32adfdcb-3b0e-476d-e6c6-9b04cc8a4117"
      },
      "source": [
        "a[6]"
      ],
      "execution_count": null,
      "outputs": [
        {
          "output_type": "execute_result",
          "data": {
            "text/plain": [
              "' '"
            ],
            "application/vnd.google.colaboratory.intrinsic+json": {
              "type": "string"
            }
          },
          "metadata": {},
          "execution_count": 11
        }
      ]
    },
    {
      "cell_type": "markdown",
      "metadata": {
        "id": "kDZ3omZImX3B"
      },
      "source": [
        "A common mistake is to request for an index that is out of the range."
      ]
    },
    {
      "cell_type": "code",
      "metadata": {
        "id": "MnvgT3PumYuU",
        "colab": {
          "base_uri": "https://localhost:8080/",
          "height": 166
        },
        "outputId": "e3ff3f5c-bd5f-4ede-80fa-4bcb6b4fd110"
      },
      "source": [
        "a[20]"
      ],
      "execution_count": null,
      "outputs": [
        {
          "output_type": "error",
          "ename": "IndexError",
          "evalue": "ignored",
          "traceback": [
            "\u001b[0;31m---------------------------------------------------------------------------\u001b[0m",
            "\u001b[0;31mIndexError\u001b[0m                                Traceback (most recent call last)",
            "\u001b[0;32m<ipython-input-12-2ba6acdce15e>\u001b[0m in \u001b[0;36m<module>\u001b[0;34m\u001b[0m\n\u001b[0;32m----> 1\u001b[0;31m \u001b[0ma\u001b[0m\u001b[0;34m[\u001b[0m\u001b[0;36m20\u001b[0m\u001b[0;34m]\u001b[0m\u001b[0;34m\u001b[0m\u001b[0;34m\u001b[0m\u001b[0m\n\u001b[0m",
            "\u001b[0;31mIndexError\u001b[0m: string index out of range"
          ]
        }
      ]
    },
    {
      "cell_type": "markdown",
      "metadata": {
        "id": "LHftxs-EN_44"
      },
      "source": [
        "# Slicing\n",
        "\n",
        "You can return a range of characters by using the slice syntax.\n",
        "Specify the start index and the end index, separated by a colon, to return a part of the string. The intuition behind slicing is similar to the `range()` function."
      ]
    },
    {
      "cell_type": "code",
      "metadata": {
        "id": "yxaNEOQaN__A",
        "colab": {
          "base_uri": "https://localhost:8080/"
        },
        "outputId": "3703fe2c-2105-4a23-e2b6-c9891e0b73e6"
      },
      "source": [
        "print(\"Characters at indices 2, 3, 4:\", a[2:5]) # range(2, 5)"
      ],
      "execution_count": null,
      "outputs": [
        {
          "output_type": "stream",
          "name": "stdout",
          "text": [
            "Characters at indices 2, 3, 4: llo\n"
          ]
        }
      ]
    },
    {
      "cell_type": "code",
      "metadata": {
        "id": "CBYEOcQXccD4"
      },
      "source": [
        "a = \"Hello, World!\""
      ],
      "execution_count": null,
      "outputs": []
    },
    {
      "cell_type": "code",
      "metadata": {
        "id": "2ld3p47YnK0T",
        "colab": {
          "base_uri": "https://localhost:8080/"
        },
        "outputId": "202ff4d5-36d9-427a-e7fc-22584568e942"
      },
      "source": [
        "print(\"First 5 characters:\", a[ :5]) # range(5)"
      ],
      "execution_count": null,
      "outputs": [
        {
          "output_type": "stream",
          "name": "stdout",
          "text": [
            "First 5 characters: Hello\n"
          ]
        }
      ]
    },
    {
      "cell_type": "code",
      "metadata": {
        "id": "_IfagAr7nK8x",
        "colab": {
          "base_uri": "https://localhost:8080/"
        },
        "outputId": "7dc52cae-0c13-46d2-8d6c-8fd8aa6eedaf"
      },
      "source": [
        "print(\"Characters from index 5 to the end:\", a[5: ])"
      ],
      "execution_count": null,
      "outputs": [
        {
          "output_type": "stream",
          "name": "stdout",
          "text": [
            "Characters from index 5 to the end: , World!\n"
          ]
        }
      ]
    },
    {
      "cell_type": "code",
      "metadata": {
        "id": "YnrRaol4nLDO",
        "colab": {
          "base_uri": "https://localhost:8080/"
        },
        "outputId": "b53c95f2-10a6-4bb6-9426-ce795e8e2775"
      },
      "source": [
        "print(\"Last two characters:\", a[-2: ])"
      ],
      "execution_count": null,
      "outputs": [
        {
          "output_type": "stream",
          "name": "stdout",
          "text": [
            "Last two characters: d!\n"
          ]
        }
      ]
    },
    {
      "cell_type": "code",
      "metadata": {
        "id": "mnIFSSTMnLJn",
        "colab": {
          "base_uri": "https://localhost:8080/"
        },
        "outputId": "f37e77ee-93c9-491d-fa3c-04b00c361b36"
      },
      "source": [
        "print(\"Entire string:\", a[ : ])"
      ],
      "execution_count": null,
      "outputs": [
        {
          "output_type": "stream",
          "name": "stdout",
          "text": [
            "Entire string: Hello, World!\n"
          ]
        }
      ]
    },
    {
      "cell_type": "code",
      "metadata": {
        "id": "S3GBfKKin45U",
        "colab": {
          "base_uri": "https://localhost:8080/"
        },
        "outputId": "13604e2e-6008-4352-d564-8abe7690de09"
      },
      "source": [
        "print(\"Characters from index 1 to 6 by two steps:\", a[1:7:2]) # range(1, 7, 2)"
      ],
      "execution_count": null,
      "outputs": [
        {
          "output_type": "stream",
          "name": "stdout",
          "text": [
            "Characters from index 1 to 6 by two steps: el,\n"
          ]
        }
      ]
    },
    {
      "cell_type": "markdown",
      "metadata": {
        "id": "q9xQvLu6OAE5"
      },
      "source": [
        "Use **negative indexes** to start the slice from the end of the string."
      ]
    },
    {
      "cell_type": "code",
      "metadata": {
        "id": "tgSKA-uNOAKO",
        "colab": {
          "base_uri": "https://localhost:8080/"
        },
        "outputId": "c3c185b9-519e-46dc-b5d2-8b68f4404f95"
      },
      "source": [
        "print(\"Characters from the 5th to 2nd index from the end:\", a[-5:-2])"
      ],
      "execution_count": null,
      "outputs": [
        {
          "output_type": "stream",
          "name": "stdout",
          "text": [
            "Characters from the 5th to 2nd index from the end: orl\n"
          ]
        }
      ]
    },
    {
      "cell_type": "code",
      "metadata": {
        "id": "radLHwiuOAPs",
        "colab": {
          "base_uri": "https://localhost:8080/"
        },
        "outputId": "b01083b7-0989-4098-ac50-db7063cb49ea"
      },
      "source": [
        "print('Reverses the string:', a[::-1])"
      ],
      "execution_count": null,
      "outputs": [
        {
          "output_type": "stream",
          "name": "stdout",
          "text": [
            "Reverses the string: !dlroW ,olleH\n"
          ]
        }
      ]
    },
    {
      "cell_type": "markdown",
      "metadata": {
        "id": "dmoTwkv4i-qa"
      },
      "source": [
        "# String Methods"
      ]
    },
    {
      "cell_type": "markdown",
      "metadata": {
        "id": "jJuZw3LVOAV0"
      },
      "source": [
        "The `strip()` method removes any whitespace from the beginning or the end."
      ]
    },
    {
      "cell_type": "code",
      "metadata": {
        "id": "P1YeZLkEOAbq",
        "colab": {
          "base_uri": "https://localhost:8080/"
        },
        "outputId": "7374526c-baeb-4754-8335-7465d939d99d"
      },
      "source": [
        "a = \" Hello, World! \"\n",
        "print(a.strip()) \n",
        "print(a)"
      ],
      "execution_count": null,
      "outputs": [
        {
          "output_type": "stream",
          "name": "stdout",
          "text": [
            "Hello, World!\n",
            " Hello, World! \n"
          ]
        }
      ]
    },
    {
      "cell_type": "markdown",
      "metadata": {
        "id": "xa6SDZAaqqCS"
      },
      "source": [
        "If the chars argument is not provided, all leading and trailing whitespaces are removed from the string. It returns the copy of modified string."
      ]
    },
    {
      "cell_type": "code",
      "metadata": {
        "id": "M1SS-vLLqqW1"
      },
      "source": [
        "str1 = \"0000000this is string (00000 ) example....wow!!!00000000000000000\"\n",
        "print(str1.strip('0'))\n",
        "print(str1)"
      ],
      "execution_count": null,
      "outputs": []
    },
    {
      "cell_type": "markdown",
      "metadata": {
        "id": "8Z-vD_LKOAg-"
      },
      "source": [
        "The `replace()` method returns a copy of the string, where all occurrences of a substring is replaced with another substring."
      ]
    },
    {
      "cell_type": "code",
      "metadata": {
        "id": "Mfw_Nw_qOAmp",
        "colab": {
          "base_uri": "https://localhost:8080/"
        },
        "outputId": "9fde1225-68c7-48ce-9879-e5fc8817a9a9"
      },
      "source": [
        "str1 = \" something some something\"\n",
        "str2 = str1.replace('some', '$')\n",
        "print(str2)\n",
        "print(str1)"
      ],
      "execution_count": null,
      "outputs": [
        {
          "output_type": "stream",
          "name": "stdout",
          "text": [
            " $thing $ $thing\n",
            " something some something\n"
          ]
        }
      ]
    },
    {
      "cell_type": "code",
      "metadata": {
        "id": "e8bs9s9RGAti",
        "colab": {
          "base_uri": "https://localhost:8080/"
        },
        "outputId": "553b5aab-e93b-443f-852c-d625feea5f59"
      },
      "source": [
        "str1 = \"0t0t0t0t0this is string (00000 ) example....wow!!!00000000000000000t\"\n",
        "print(str1.strip('t0'))\n",
        "print(str1)"
      ],
      "execution_count": null,
      "outputs": [
        {
          "output_type": "stream",
          "name": "stdout",
          "text": [
            "his is string (00000 ) example....wow!!!\n",
            "0t0t0t0t0this is string (00000 ) example....wow!!!00000000000000000t\n"
          ]
        }
      ]
    },
    {
      "cell_type": "markdown",
      "metadata": {
        "id": "x5s2IksPOAtW"
      },
      "source": [
        "The `lower()` method returns the string in lower case."
      ]
    },
    {
      "cell_type": "code",
      "metadata": {
        "id": "jv2FN8ONalCE",
        "colab": {
          "base_uri": "https://localhost:8080/"
        },
        "outputId": "966c0dba-08b0-4e78-f776-97e4cc41f56b"
      },
      "source": [
        "a = \"Hello, World!\"\n",
        "print( a.lower() )"
      ],
      "execution_count": null,
      "outputs": [
        {
          "output_type": "stream",
          "name": "stdout",
          "text": [
            "hello, world!\n"
          ]
        }
      ]
    },
    {
      "cell_type": "markdown",
      "metadata": {
        "id": "SVewsaygalbr"
      },
      "source": [
        "The `upper()` method returns the string in upper case."
      ]
    },
    {
      "cell_type": "code",
      "metadata": {
        "id": "xhclxWD4alkI",
        "colab": {
          "base_uri": "https://localhost:8080/"
        },
        "outputId": "5fad4d22-d14b-4f25-b3e0-bf70d6b04590"
      },
      "source": [
        "a = \"Hello, World!\"\n",
        "print(a.upper())"
      ],
      "execution_count": null,
      "outputs": [
        {
          "output_type": "stream",
          "name": "stdout",
          "text": [
            "HELLO, WORLD!\n"
          ]
        }
      ]
    },
    {
      "cell_type": "markdown",
      "metadata": {
        "id": "fHdR445dtF2O"
      },
      "source": [
        "**Important note:** `lower`, `upper`, and `replace` do not\n",
        "change the original string. "
      ]
    },
    {
      "cell_type": "markdown",
      "metadata": {
        "id": "MV2bIusgr4Ca"
      },
      "source": [
        "The `count(x)` method counts the number of occurrences of character `x` in the string"
      ]
    },
    {
      "cell_type": "code",
      "metadata": {
        "id": "3D1McbyysGqQ",
        "colab": {
          "base_uri": "https://localhost:8080/"
        },
        "outputId": "d72cbbc9-3868-4ca8-f07d-4136140c92c0"
      },
      "source": [
        "a.count('l')"
      ],
      "execution_count": null,
      "outputs": [
        {
          "output_type": "execute_result",
          "data": {
            "text/plain": [
              "3"
            ]
          },
          "metadata": {},
          "execution_count": 40
        }
      ]
    },
    {
      "cell_type": "markdown",
      "metadata": {
        "id": "qZSLvRrXsYZ7"
      },
      "source": [
        "The `index(x)` method returns the location of the first occurrence of `x`"
      ]
    },
    {
      "cell_type": "code",
      "metadata": {
        "id": "iVcaBa9or4PC",
        "colab": {
          "base_uri": "https://localhost:8080/"
        },
        "outputId": "716cf8b3-0d7b-4aaf-cfed-bbbec5077cb2"
      },
      "source": [
        "a.index('o')"
      ],
      "execution_count": null,
      "outputs": [
        {
          "output_type": "execute_result",
          "data": {
            "text/plain": [
              "4"
            ]
          },
          "metadata": {},
          "execution_count": 41
        }
      ]
    },
    {
      "cell_type": "markdown",
      "metadata": {
        "id": "6kna1vkUsfTa"
      },
      "source": [
        "The `isalpha()` method returns `True` if every character of the string is a letter"
      ]
    },
    {
      "cell_type": "code",
      "metadata": {
        "id": "8RpdJleCsfbA",
        "colab": {
          "base_uri": "https://localhost:8080/"
        },
        "outputId": "570c8bdd-bca2-4de0-945c-75bd3d4b1f8f"
      },
      "source": [
        "a.isalpha()"
      ],
      "execution_count": null,
      "outputs": [
        {
          "output_type": "execute_result",
          "data": {
            "text/plain": [
              "False"
            ]
          },
          "metadata": {},
          "execution_count": 42
        }
      ]
    },
    {
      "cell_type": "code",
      "metadata": {
        "id": "kvtTNU1os2Ko",
        "colab": {
          "base_uri": "https://localhost:8080/"
        },
        "outputId": "e6448ea6-6c08-4696-bb40-7a3ebdbecae7"
      },
      "source": [
        "b = '43'\n",
        "b.isdigit()"
      ],
      "execution_count": null,
      "outputs": [
        {
          "output_type": "execute_result",
          "data": {
            "text/plain": [
              "True"
            ]
          },
          "metadata": {},
          "execution_count": 51
        }
      ]
    },
    {
      "cell_type": "markdown",
      "metadata": {
        "id": "9T2imIR5tixq"
      },
      "source": [
        "**Other string methods:** There are many more string methods. For instance, there are methods\n",
        "`isdigit` and `isalnum`, which are analogous to `isalpha`. \n",
        "\n",
        "Some other useful methods we will\n",
        "learn about later are `join` and `split`. \n",
        "\n",
        "To see a list of all the string methods, type `dir(str)`. \n",
        "\n",
        "To read Python's documentation for one of the methods, say the `isdigit` method, type\n",
        "`help(str.isdigit)`."
      ]
    },
    {
      "cell_type": "code",
      "metadata": {
        "id": "HPCzn-b8uchA"
      },
      "source": [
        "dir(str)"
      ],
      "execution_count": null,
      "outputs": []
    },
    {
      "cell_type": "code",
      "metadata": {
        "id": "CFVckjFRurjD",
        "colab": {
          "base_uri": "https://localhost:8080/"
        },
        "outputId": "9bbdfb11-415c-4e4f-ef58-eaf90d128782"
      },
      "source": [
        "help(str.isalnum)"
      ],
      "execution_count": null,
      "outputs": [
        {
          "output_type": "stream",
          "name": "stdout",
          "text": [
            "Help on method_descriptor:\n",
            "\n",
            "isalnum(self, /)\n",
            "    Return True if the string is an alpha-numeric string, False otherwise.\n",
            "    \n",
            "    A string is alpha-numeric if all characters in the string are alpha-numeric and\n",
            "    there is at least one character in the string.\n",
            "\n"
          ]
        }
      ]
    },
    {
      "cell_type": "markdown",
      "metadata": {
        "id": "pQUGymHpamDz"
      },
      "source": [
        "# The in Operator\n",
        "\n",
        "To check if a certain phrase or character is present in a string, we can use the keywords ՝in՝ or ՝not in՝."
      ]
    },
    {
      "cell_type": "code",
      "metadata": {
        "id": "MEK__9t8amJm",
        "colab": {
          "base_uri": "https://localhost:8080/"
        },
        "outputId": "67857bf4-a9d0-4161-bae5-25d8dae33c11"
      },
      "source": [
        "txt = \"The rain in Spain stays mainly in the plain\"\n",
        "x = \"ain\" in txt\n",
        "y = \"abcd\" in txt\n",
        "print(x)\n",
        "print(y)"
      ],
      "execution_count": null,
      "outputs": [
        {
          "output_type": "stream",
          "name": "stdout",
          "text": [
            "True\n",
            "False\n"
          ]
        }
      ]
    },
    {
      "cell_type": "code",
      "metadata": {
        "id": "zqHGhLhnlgei"
      },
      "source": [
        "if  ';' in 'Hello World':\n",
        "  print('Your string does not contain any semicolons.')"
      ],
      "execution_count": null,
      "outputs": []
    },
    {
      "cell_type": "markdown",
      "metadata": {
        "id": "1ZGhA0LuamP5"
      },
      "source": [
        "# Concatenation and Repetition\n",
        "\n",
        "The operators `+` and `*` can be used on strings. \n",
        "\n",
        "* The `+` operator combines two strings. This operation\n",
        "is called **concatenation**. \n",
        "\n",
        "* The `*` repeats a string a certain number of times. Here are some examples."
      ]
    },
    {
      "cell_type": "code",
      "metadata": {
        "id": "VrMq1CTCamVS",
        "colab": {
          "base_uri": "https://localhost:8080/"
        },
        "outputId": "1dde6d27-20f8-48cc-c019-e0e6c405b587"
      },
      "source": [
        "a = \"Hello\"\n",
        "b = \"World\"\n",
        "c = a + b \n",
        "print(c)"
      ],
      "execution_count": null,
      "outputs": [
        {
          "output_type": "stream",
          "name": "stdout",
          "text": [
            "HelloWorld\n"
          ]
        }
      ]
    },
    {
      "cell_type": "code",
      "metadata": {
        "id": "2rhya32JjO-Y",
        "colab": {
          "base_uri": "https://localhost:8080/"
        },
        "outputId": "f2cf134a-d8db-4222-a85d-16a9c6188117"
      },
      "source": [
        "print('-' * 15)"
      ],
      "execution_count": null,
      "outputs": [
        {
          "output_type": "stream",
          "name": "stdout",
          "text": [
            "---------------\n"
          ]
        }
      ]
    },
    {
      "cell_type": "code",
      "metadata": {
        "id": "YECyIQO_jSVl",
        "colab": {
          "base_uri": "https://localhost:8080/"
        },
        "outputId": "1995164b-c21b-4d6d-f288-4c666cfb9155"
      },
      "source": [
        "print('Hi' * 15)"
      ],
      "execution_count": null,
      "outputs": [
        {
          "output_type": "stream",
          "name": "stdout",
          "text": [
            "HiHiHiHiHiHiHiHiHiHiHiHiHiHiHi\n"
          ]
        }
      ]
    },
    {
      "cell_type": "markdown",
      "metadata": {
        "id": "mQ2Q5Q4rlN6r"
      },
      "source": [
        "This code repeatedly asks the\n",
        "user to enter a letter and builds up a string consisting of only the vowels (ձայնավոր) that the user entered."
      ]
    },
    {
      "cell_type": "code",
      "metadata": {
        "id": "UhxcgfarlAE9",
        "colab": {
          "base_uri": "https://localhost:8080/"
        },
        "outputId": "486a02cb-c228-464d-b3ba-75ec92df4755"
      },
      "source": [
        "s = ''\n",
        "for i in range(10):\n",
        "  t = input('Enter a letter: ')\n",
        "  if t in 'aeiou':\n",
        "    s = s + t   # s += t\n",
        "print(s)"
      ],
      "execution_count": null,
      "outputs": [
        {
          "output_type": "stream",
          "name": "stdout",
          "text": [
            "Enter a letter: a\n",
            "Enter a letter: b\n",
            "Enter a letter: c\n",
            "Enter a letter: d\n",
            "Enter a letter: e\n",
            "Enter a letter: f\n",
            "Enter a letter: g\n",
            "Enter a letter: o\n",
            "Enter a letter: a\n",
            "Enter a letter: 1\n",
            "aeoa\n"
          ]
        }
      ]
    },
    {
      "cell_type": "markdown",
      "metadata": {
        "id": "67REeinFvRuF"
      },
      "source": [
        "# Escape Characters"
      ]
    },
    {
      "cell_type": "markdown",
      "metadata": {
        "id": "NCWPyO4CvUlj"
      },
      "source": [
        "The backslash, `\\`, is used to get certain special characters, called **escape characters**, into your string.\n",
        "There are a variety of escape characters, and here are the most useful ones:\n",
        "\n",
        "* `\\n` the **newline** character. It is used to pass to the next line. Here is an example:\n"
      ]
    },
    {
      "cell_type": "code",
      "metadata": {
        "id": "O4DgeICnvRj4",
        "colab": {
          "base_uri": "https://localhost:8080/"
        },
        "outputId": "461680a9-3253-4ff5-b0ac-84fcc0c6c36d"
      },
      "source": [
        "print('Coding\\nis\\nfun!')"
      ],
      "execution_count": null,
      "outputs": [
        {
          "output_type": "stream",
          "name": "stdout",
          "text": [
            "Coding\n",
            "is\n",
            "fun!\n"
          ]
        }
      ]
    },
    {
      "cell_type": "markdown",
      "metadata": {
        "id": "xu3iJ9zbvRYB"
      },
      "source": [
        "* `\\'` for inserting **apostrophes** into strings. Say you have the following string:"
      ]
    },
    {
      "cell_type": "code",
      "metadata": {
        "id": "JoYvMcLjvyYJ",
        "colab": {
          "base_uri": "https://localhost:8080/",
          "height": 131
        },
        "outputId": "d4facb3d-ce98-4809-bf8a-36a442ce37b0"
      },
      "source": [
        "print('I can't go')"
      ],
      "execution_count": null,
      "outputs": [
        {
          "output_type": "error",
          "ename": "SyntaxError",
          "evalue": "ignored",
          "traceback": [
            "\u001b[0;36m  File \u001b[0;32m\"<ipython-input-66-4a88f14ebb13>\"\u001b[0;36m, line \u001b[0;32m1\u001b[0m\n\u001b[0;31m    print('I can't go')\u001b[0m\n\u001b[0m                 ^\u001b[0m\n\u001b[0;31mSyntaxError\u001b[0m\u001b[0;31m:\u001b[0m invalid syntax\n"
          ]
        }
      ]
    },
    {
      "cell_type": "code",
      "metadata": {
        "id": "p1K98a0hvyem",
        "colab": {
          "base_uri": "https://localhost:8080/"
        },
        "outputId": "a2289553-969a-4b4e-82b5-8a7a0ce764a0"
      },
      "source": [
        "print('I can\\'t go')"
      ],
      "execution_count": null,
      "outputs": [
        {
          "output_type": "stream",
          "name": "stdout",
          "text": [
            "I can't go\n"
          ]
        }
      ]
    },
    {
      "cell_type": "markdown",
      "metadata": {
        "id": "nC040z41wbSw"
      },
      "source": [
        "The same holds for `\\\"` or `\\\\` (to get the backslash itself)."
      ]
    },
    {
      "cell_type": "markdown",
      "metadata": {
        "id": "d4BJGEDfwrFa"
      },
      "source": [
        "* `\\t` for the **tab** character"
      ]
    },
    {
      "cell_type": "code",
      "metadata": {
        "id": "OHHTxfF0vyjN",
        "colab": {
          "base_uri": "https://localhost:8080/"
        },
        "outputId": "d4d9533c-dcd9-4d9c-8774-8d954352a83d"
      },
      "source": [
        "print('\\tHello')  "
      ],
      "execution_count": null,
      "outputs": [
        {
          "output_type": "stream",
          "name": "stdout",
          "text": [
            "\tHello\n"
          ]
        }
      ]
    },
    {
      "cell_type": "markdown",
      "metadata": {
        "id": "61P75jdgw4oJ"
      },
      "source": [
        "What will be the output of the following code?"
      ]
    },
    {
      "cell_type": "code",
      "metadata": {
        "id": "Ibb-R8XCvRFv",
        "colab": {
          "base_uri": "https://localhost:8080/"
        },
        "outputId": "3636b888-85c5-4d4f-b383-8795b78d8d6d"
      },
      "source": [
        "print('\\n'*9)"
      ],
      "execution_count": null,
      "outputs": [
        {
          "output_type": "stream",
          "name": "stdout",
          "text": [
            "\n",
            "\n",
            "\n",
            "\n",
            "\n",
            "\n",
            "\n",
            "\n",
            "\n",
            "\n"
          ]
        }
      ]
    },
    {
      "cell_type": "markdown",
      "metadata": {
        "id": "b78gsXNWuId4"
      },
      "source": [
        "When prefixed with the letter `r` or `R` a string literal becomes a raw string and the escape characters such as `\\n` are not converted."
      ]
    },
    {
      "cell_type": "code",
      "metadata": {
        "id": "zsP1phqGuJBV",
        "colab": {
          "base_uri": "https://localhost:8080/"
        },
        "outputId": "6d2ec10f-8ae2-4711-835f-49a9d52d88b9"
      },
      "source": [
        "print(r'\\nHello')\n",
        "print(R'\\nHello')"
      ],
      "execution_count": null,
      "outputs": [
        {
          "output_type": "stream",
          "name": "stdout",
          "text": [
            "\\nHello\n",
            "\\nHello\n"
          ]
        }
      ]
    },
    {
      "cell_type": "markdown",
      "metadata": {
        "id": "iayYQx2pama8"
      },
      "source": [
        "## String Format\n",
        "\n",
        "As we learned in the Python Variables chapter, we cannot combine strings and numbers like this."
      ]
    },
    {
      "cell_type": "code",
      "metadata": {
        "id": "aLwl42MmamhW",
        "colab": {
          "base_uri": "https://localhost:8080/",
          "height": 201
        },
        "outputId": "4cced049-a957-4a81-c0c4-0d693a2afc98"
      },
      "source": [
        "age = 36\n",
        "txt = \"My name is John, I am \" + age\n",
        "print(txt)"
      ],
      "execution_count": null,
      "outputs": [
        {
          "output_type": "error",
          "ename": "TypeError",
          "evalue": "ignored",
          "traceback": [
            "\u001b[0;31m---------------------------------------------------------------------------\u001b[0m",
            "\u001b[0;31mTypeError\u001b[0m                                 Traceback (most recent call last)",
            "\u001b[0;32m<ipython-input-81-4d1b227cff41>\u001b[0m in \u001b[0;36m<module>\u001b[0;34m\u001b[0m\n\u001b[1;32m      1\u001b[0m \u001b[0mage\u001b[0m \u001b[0;34m=\u001b[0m \u001b[0;36m36\u001b[0m\u001b[0;34m\u001b[0m\u001b[0;34m\u001b[0m\u001b[0m\n\u001b[0;32m----> 2\u001b[0;31m \u001b[0mtxt\u001b[0m \u001b[0;34m=\u001b[0m \u001b[0;34m\"My name is John, I am \"\u001b[0m \u001b[0;34m+\u001b[0m \u001b[0mage\u001b[0m\u001b[0;34m\u001b[0m\u001b[0;34m\u001b[0m\u001b[0m\n\u001b[0m\u001b[1;32m      3\u001b[0m \u001b[0mprint\u001b[0m\u001b[0;34m(\u001b[0m\u001b[0mtxt\u001b[0m\u001b[0;34m)\u001b[0m\u001b[0;34m\u001b[0m\u001b[0;34m\u001b[0m\u001b[0m\n",
            "\u001b[0;31mTypeError\u001b[0m: can only concatenate str (not \"int\") to str"
          ]
        }
      ]
    },
    {
      "cell_type": "markdown",
      "metadata": {
        "id": "e2-bHx5famnC"
      },
      "source": [
        "But we can combine strings and numbers by using the format() method!\n",
        "The format() method takes the passed arguments, formats them, and places them in the string where the placeholders {} are"
      ]
    },
    {
      "cell_type": "code",
      "metadata": {
        "id": "5Kz6Pps_amtF",
        "colab": {
          "base_uri": "https://localhost:8080/"
        },
        "outputId": "5bd3ce83-e22c-4941-8110-79c309782b45"
      },
      "source": [
        "age = 36\n",
        "txt = \"My name is John, and I am {}\"\n",
        "print(txt.format(age))"
      ],
      "execution_count": null,
      "outputs": [
        {
          "output_type": "stream",
          "name": "stdout",
          "text": [
            "My name is John, and I am 36\n"
          ]
        }
      ]
    },
    {
      "cell_type": "markdown",
      "metadata": {
        "id": "b7lcnruXanqO"
      },
      "source": [
        "The format() method takes unlimited number of arguments, and are placed into the respective placeholders."
      ]
    },
    {
      "cell_type": "code",
      "metadata": {
        "id": "ITXVB-Xvanxv",
        "colab": {
          "base_uri": "https://localhost:8080/"
        },
        "outputId": "26adde68-b5f0-4107-ac29-4b22cf0d39b1"
      },
      "source": [
        "quantity = 3\n",
        "itemno = 567\n",
        "price = 49.95\n",
        "myorder = \"I want {} pieces of item {} for {} dollars.\"\n",
        "print(myorder.format(quantity, itemno, price))"
      ],
      "execution_count": null,
      "outputs": [
        {
          "output_type": "stream",
          "name": "stdout",
          "text": [
            "I want 3 pieces of item 567 for 49.95 dollars.\n"
          ]
        }
      ]
    },
    {
      "cell_type": "markdown",
      "metadata": {
        "id": "0MjFNiBGan3K"
      },
      "source": [
        "You can use index numbers {0} to be sure the arguments are placed in the correct placeholders."
      ]
    },
    {
      "cell_type": "code",
      "metadata": {
        "id": "Jw6Uir0Lan8g",
        "colab": {
          "base_uri": "https://localhost:8080/"
        },
        "outputId": "b3ca1745-3869-47fb-c190-6039321c2004"
      },
      "source": [
        "quantity = 3\n",
        "itemno = 567\n",
        "price = 49.95\n",
        "myorder = \"I want to pay {2} dollars for {0} pieces of item {1}.\"\n",
        "print(myorder.format(quantity, itemno, price))"
      ],
      "execution_count": null,
      "outputs": [
        {
          "output_type": "stream",
          "name": "stdout",
          "text": [
            "I want to pay 49.95 dollars for 3 pieces of item 567.\n"
          ]
        }
      ]
    },
    {
      "cell_type": "markdown",
      "metadata": {
        "id": "p8VNCCpxx-l0"
      },
      "source": [
        "We can do this with shorter code in this way:"
      ]
    },
    {
      "cell_type": "code",
      "metadata": {
        "id": "2Pj4ii6hx-3E",
        "colab": {
          "base_uri": "https://localhost:8080/"
        },
        "outputId": "3aaa33f5-0eec-42ea-a0c1-1618d4782753"
      },
      "source": [
        "quantity = 3\n",
        "itemno = 567\n",
        "price = 49.95\n",
        "print(f\"I want to pay {quantity} dollars for {itemno} pieces of item {price}.\")"
      ],
      "execution_count": null,
      "outputs": [
        {
          "output_type": "stream",
          "name": "stdout",
          "text": [
            "I want to pay 4 dollars for 567 pieces of item 49.95.\n"
          ]
        }
      ]
    },
    {
      "cell_type": "markdown",
      "metadata": {
        "id": "u2Gm7jc3aoDA"
      },
      "source": [
        "## Deleting or changing a String\n",
        "\n",
        "Strings are immutable. This means that elements of a string cannot be changed once it has been assigned. We can simply reassign different strings to the same name."
      ]
    },
    {
      "cell_type": "code",
      "metadata": {
        "id": "xvWOvsf-aoIq",
        "colab": {
          "base_uri": "https://localhost:8080/",
          "height": 183
        },
        "outputId": "a5999e2b-9ec5-4d00-a621-5dd95b0fb72a"
      },
      "source": [
        "a = 'Hello'\n",
        "a[3] = 'm'"
      ],
      "execution_count": null,
      "outputs": [
        {
          "output_type": "error",
          "ename": "TypeError",
          "evalue": "ignored",
          "traceback": [
            "\u001b[0;31m---------------------------------------------------------------------------\u001b[0m",
            "\u001b[0;31mTypeError\u001b[0m                                 Traceback (most recent call last)",
            "\u001b[0;32m<ipython-input-90-c54c389009cb>\u001b[0m in \u001b[0;36m<module>\u001b[0;34m\u001b[0m\n\u001b[1;32m      1\u001b[0m \u001b[0ma\u001b[0m \u001b[0;34m=\u001b[0m \u001b[0;34m'Hello'\u001b[0m\u001b[0;34m\u001b[0m\u001b[0;34m\u001b[0m\u001b[0m\n\u001b[0;32m----> 2\u001b[0;31m \u001b[0ma\u001b[0m\u001b[0;34m[\u001b[0m\u001b[0;36m3\u001b[0m\u001b[0;34m]\u001b[0m \u001b[0;34m=\u001b[0m \u001b[0;34m'm'\u001b[0m\u001b[0;34m\u001b[0m\u001b[0;34m\u001b[0m\u001b[0m\n\u001b[0m",
            "\u001b[0;31mTypeError\u001b[0m: 'str' object does not support item assignment"
          ]
        }
      ]
    },
    {
      "cell_type": "markdown",
      "metadata": {
        "id": "I-QQaKdraoOu"
      },
      "source": [
        "We cannot delete or remove characters from a string. But deleting the string entirely is possible using the keyword **del**."
      ]
    },
    {
      "cell_type": "code",
      "metadata": {
        "id": "sxFbs37AaoUX",
        "colab": {
          "base_uri": "https://localhost:8080/",
          "height": 166
        },
        "outputId": "257eb7d8-94be-436f-8ba7-8f285e1d65a2"
      },
      "source": [
        "del a[1]"
      ],
      "execution_count": null,
      "outputs": [
        {
          "output_type": "error",
          "ename": "TypeError",
          "evalue": "ignored",
          "traceback": [
            "\u001b[0;31m---------------------------------------------------------------------------\u001b[0m",
            "\u001b[0;31mTypeError\u001b[0m                                 Traceback (most recent call last)",
            "\u001b[0;32m<ipython-input-91-d982d7dc2a95>\u001b[0m in \u001b[0;36m<module>\u001b[0;34m\u001b[0m\n\u001b[0;32m----> 1\u001b[0;31m \u001b[0;32mdel\u001b[0m \u001b[0ma\u001b[0m\u001b[0;34m[\u001b[0m\u001b[0;36m1\u001b[0m\u001b[0;34m]\u001b[0m\u001b[0;34m\u001b[0m\u001b[0;34m\u001b[0m\u001b[0m\n\u001b[0m",
            "\u001b[0;31mTypeError\u001b[0m: 'str' object doesn't support item deletion"
          ]
        }
      ]
    },
    {
      "cell_type": "code",
      "metadata": {
        "id": "aSKOiC-0dm3K",
        "colab": {
          "base_uri": "https://localhost:8080/",
          "height": 183
        },
        "outputId": "f0d863b4-c463-448f-e006-ea37babcabf2"
      },
      "source": [
        "del a\n",
        "a"
      ],
      "execution_count": null,
      "outputs": [
        {
          "output_type": "error",
          "ename": "NameError",
          "evalue": "ignored",
          "traceback": [
            "\u001b[0;31m---------------------------------------------------------------------------\u001b[0m",
            "\u001b[0;31mNameError\u001b[0m                                 Traceback (most recent call last)",
            "\u001b[0;32m<ipython-input-92-88f0dc819981>\u001b[0m in \u001b[0;36m<module>\u001b[0;34m\u001b[0m\n\u001b[1;32m      1\u001b[0m \u001b[0;32mdel\u001b[0m \u001b[0ma\u001b[0m\u001b[0;34m\u001b[0m\u001b[0;34m\u001b[0m\u001b[0m\n\u001b[0;32m----> 2\u001b[0;31m \u001b[0ma\u001b[0m\u001b[0;34m\u001b[0m\u001b[0;34m\u001b[0m\u001b[0m\n\u001b[0m",
            "\u001b[0;31mNameError\u001b[0m: name 'a' is not defined"
          ]
        }
      ]
    },
    {
      "cell_type": "markdown",
      "metadata": {
        "id": "L08P_fdFpYXk"
      },
      "source": [
        "Here is code that will change the character at index 3 to 'X':"
      ]
    },
    {
      "cell_type": "code",
      "metadata": {
        "id": "OU1NxGsPpeUb",
        "colab": {
          "base_uri": "https://localhost:8080/"
        },
        "outputId": "29bb4364-28e5-4527-c5ed-15c49432d327"
      },
      "source": [
        "a = 'Hello' \n",
        "b = a\n",
        "a = a[:3] + 'X' + a[4:]\n",
        "print(a)\n",
        "print(b)"
      ],
      "execution_count": null,
      "outputs": [
        {
          "output_type": "stream",
          "name": "stdout",
          "text": [
            "HelXo\n",
            "Hello\n"
          ]
        }
      ]
    },
    {
      "cell_type": "markdown",
      "metadata": {
        "id": "WjsdZN_7dm8g"
      },
      "source": [
        "## Iterating Through String\n",
        "\n",
        "Using for loop we can iterate through a string. Here is an example to count the number of 'l' in a string."
      ]
    },
    {
      "cell_type": "code",
      "metadata": {
        "id": "D8DBhLQwdnBx",
        "colab": {
          "base_uri": "https://localhost:8080/"
        },
        "outputId": "c4a9b6cb-a49f-47f1-a639-d98666ad2d89"
      },
      "source": [
        "str1 = 'Hello Worlds!'\n",
        "for element in str1: \n",
        "    print(element, end=' ') "
      ],
      "execution_count": null,
      "outputs": [
        {
          "output_type": "stream",
          "name": "stdout",
          "text": [
            "H e l l o   W o r l d s ! "
          ]
        }
      ]
    },
    {
      "cell_type": "markdown",
      "metadata": {
        "id": "oPwNeQzVp8cu"
      },
      "source": [
        "If we want to keep track of our location, we can do"
      ]
    },
    {
      "cell_type": "code",
      "metadata": {
        "id": "z6qSiOeAp6-3",
        "colab": {
          "base_uri": "https://localhost:8080/"
        },
        "outputId": "c6ef70b6-5280-4450-9b36-851127bce5c5"
      },
      "source": [
        "for i in range( len(str1) ): \n",
        "    print(str1[i], end=' ') "
      ],
      "execution_count": null,
      "outputs": [
        {
          "output_type": "stream",
          "name": "stdout",
          "text": [
            "H e l l o   W o r l d s ! "
          ]
        }
      ]
    },
    {
      "cell_type": "code",
      "source": [
        "str1 = str1 + 'a'"
      ],
      "metadata": {
        "id": "Gpa082xYYsLw"
      },
      "execution_count": null,
      "outputs": []
    },
    {
      "cell_type": "code",
      "metadata": {
        "id": "dXWqNIg-s87p",
        "colab": {
          "base_uri": "https://localhost:8080/"
        },
        "outputId": "882cbf7d-fa01-4e25-db5f-fd3612a70539"
      },
      "source": [
        "str1 += 'a'\n",
        "print(str1)"
      ],
      "execution_count": null,
      "outputs": [
        {
          "output_type": "stream",
          "name": "stdout",
          "text": [
            "Hello Worlds!aa\n"
          ]
        }
      ]
    },
    {
      "cell_type": "markdown",
      "metadata": {
        "id": "jyjx2Q4rdnIE"
      },
      "source": [
        "# Exercises\n",
        "\n",
        "1. Using for loop iterate through the string `Hello world` and count the number of 'l's in it.\n",
        "\n",
        "  Անցնել `Hello world` տեքստի վրայով և հաշվել դրա մեջ `l` տառի հաճախականությունը՝ օգտագործելով for ցիկլ։"
      ]
    },
    {
      "cell_type": "code",
      "metadata": {
        "id": "wzUd8m5JdnM9",
        "outputId": "45141eee-1624-4ab0-c86d-da3065703303",
        "colab": {
          "base_uri": "https://localhost:8080/"
        }
      },
      "source": [
        "count = 0\n",
        "for i in \"Hello world\":\n",
        "  if i == 'l':\n",
        "    count += 1\n",
        "print(count)"
      ],
      "execution_count": null,
      "outputs": [
        {
          "output_type": "stream",
          "name": "stdout",
          "text": [
            "3\n"
          ]
        }
      ]
    },
    {
      "cell_type": "markdown",
      "metadata": {
        "id": "6tXeS5UjeBAz"
      },
      "source": [
        "2. Write a program that asks the user for a string and prints out the location of each `a`\n",
        "in the string.\n",
        "\n",
        "Գրել ծրագիր, որը վերցնում է օգտատիրոջ կողմից մուտքագրված տեքստը և տպում է նրա մեջ հանդիպող `a` տառի ինդեքսները։"
      ]
    },
    {
      "cell_type": "code",
      "metadata": {
        "id": "dGNg4aXweBHn",
        "outputId": "b46987d5-9bfc-49b2-e698-32ad91e37090",
        "colab": {
          "base_uri": "https://localhost:8080/"
        }
      },
      "source": [
        "txt = str(input('Input a text - '))\n",
        "count = -1\n",
        "for i in txt:\n",
        "  count += 1\n",
        "  if i == 'a':\n",
        "    print(f'a in index {count}')\n"
      ],
      "execution_count": null,
      "outputs": [
        {
          "output_type": "stream",
          "name": "stdout",
          "text": [
            "Input a text - aaaa\n",
            "a in index 0\n",
            "a in index 1\n",
            "a in index 2\n",
            "a in index 3\n"
          ]
        }
      ]
    },
    {
      "cell_type": "markdown",
      "metadata": {
        "id": "eWMyyPiheBOH"
      },
      "source": [
        "3. Write a program that asks the user for a string and creates a new string that doubles each character of the original string. For instance, if the user enters `Hello`, the output should be `HHeelllloo`.\n",
        "\n",
        "  Գրել ծրագիր, որը վերցնում է օգտատիրոջ կողմից մուտքագրված տեքստը և պատրաստում է նոր տեքստ, որի մեջ գրված են մուտքագրված բառի տառերը կրկնապատկված։ Օրինակ՝ `Hello` բառի համար կվերադարձնի `HHeelllloo`։"
      ]
    },
    {
      "cell_type": "code",
      "metadata": {
        "id": "0zFYgg9176WO",
        "outputId": "60602d2b-ee21-42df-b52a-c7dbcf37bfb9",
        "colab": {
          "base_uri": "https://localhost:8080/"
        }
      },
      "source": [
        "txt = str(input('Input a text - '))\n",
        "txt2 = \"\"\n",
        "for i in txt:\n",
        "  txt2 += i + i\n",
        "print(txt2) "
      ],
      "execution_count": null,
      "outputs": [
        {
          "output_type": "stream",
          "name": "stdout",
          "text": [
            "Input a text - hello\n",
            "hheelllloo\n"
          ]
        }
      ]
    },
    {
      "cell_type": "markdown",
      "metadata": {
        "id": "av88x4pGeEP_"
      },
      "source": [
        "4. Write a program that asks a user for their name and prints it in the following way:\n",
        "\n",
        "  `N Ns Nsh Nsha Nshan`.\n",
        "\n",
        "  Hint: use a for loop.\n",
        "\n",
        "  Գրել ծրագիր, որը վերցնում է օգտատիրոջ անունը և տպում է այն հետևյալ կերպ․\n",
        "\n",
        "  `N Ns Nsh Nsha Nshan`\n",
        "\n",
        "  Հուշում․ օգտագործել for ցիկլ։"
      ]
    },
    {
      "cell_type": "code",
      "metadata": {
        "id": "dLwxBY_Y75aY",
        "colab": {
          "base_uri": "https://localhost:8080/"
        },
        "outputId": "c750a970-2fc9-480a-b0dd-cfa392f44f49"
      },
      "source": [
        "txt = str(input('Input a text - '))\n",
        "txt2 = ''\n",
        "for i in txt:\n",
        "  txt2 += i\n",
        "  print(txt2, end=' ')\n"
      ],
      "execution_count": null,
      "outputs": [
        {
          "output_type": "stream",
          "name": "stdout",
          "text": [
            "Input a text - kamo\n",
            "k ka kam kamo "
          ]
        }
      ]
    },
    {
      "cell_type": "markdown",
      "metadata": {
        "id": "rXYFTMoheEVj"
      },
      "source": [
        "5. Write a program that removes all capitalization and common punctuation (`,.;:-?!()\\'\"`) from a\n",
        "string `s`.\n",
        "\n",
        "  Գրել ծրագիր, որը դարձնում է `s` տեքստի մեծատառերը՝ փոքրատառ և ջնջում է տեքստում առկա հետևյալ կետադրական նշանները՝ `,.;:-?!()\\'\"`։"
      ]
    },
    {
      "cell_type": "code",
      "metadata": {
        "id": "IQZ7fRp7eEb2",
        "outputId": "13d374b2-8129-4593-af72-72a5c76ff5e1",
        "colab": {
          "base_uri": "https://localhost:8080/"
        }
      },
      "source": [
        "txt = str(input('Input a text - '))\n",
        "txt2 = ''\n",
        "for i in txt:\n",
        "  if i not in r\"',.;:-?!\\()\\\"\":\n",
        "    txt2 += i\n",
        "print(txt2.lower())"
      ],
      "execution_count": null,
      "outputs": [
        {
          "output_type": "stream",
          "name": "stdout",
          "text": [
            "Input a text - abcAD\"'':()\n",
            "abcad\n"
          ]
        }
      ]
    },
    {
      "cell_type": "markdown",
      "metadata": {
        "id": "7bBMNId1eEfg"
      },
      "source": [
        "6. Write a program that, given a string that contains a decimal number, prints out the\n",
        "decimal part of the number. For instance, if given `3.14159`, the program should print out `.14159`.\n",
        "\n",
        "  Գրել ծրագիր, որը վերցնում է տասնորդական թիվ՝ որպես տեքստ և տպում է դրա տասնորդական կարգը, այսինքն՝ օրինակ  `3.14159`-ի համար ծրագիրը պետք է տպի `.14159`։"
      ]
    },
    {
      "cell_type": "markdown",
      "metadata": {
        "id": "Jb7430ZK8gkI"
      },
      "source": [
        "# Lists"
      ]
    },
    {
      "cell_type": "markdown",
      "metadata": {
        "id": "ilfwU0jhfbEO"
      },
      "source": [
        "Suppose we need to get thirty test scores from a user and do something with them, like put them\n",
        "in order. We could create thirty variables, `score1`, `score2`, . . . , `score30`, but that would be very\n",
        "tedious. To then put the scores in order would be extremely difficult. The solution is to use `lists`․\n",
        "\n",
        "* Lists are Python's most flexible ordered collection object type. \n",
        "\n",
        "* Lists can contain any sort of object: numbers, strings, and even other lists. \n",
        "\n",
        "* They may be changed in place by assignment to offsets and slices, list method calls, deletion statements, and more. \n",
        "\n",
        "* Lists  are mutable objects, which means that they can be changed in place. \n"
      ]
    },
    {
      "cell_type": "code",
      "metadata": {
        "id": "bINu8oAjfiya"
      },
      "source": [
        "my_list = [1, 3, 5, 7, 9]\n",
        "print(my_list)"
      ],
      "execution_count": null,
      "outputs": []
    },
    {
      "cell_type": "markdown",
      "metadata": {
        "id": "AwT-fs9ufi3V"
      },
      "source": [
        "We use square brackets `[]` to indicate the start and end of the list, and separate the items by commas `,`.\n",
        "\n",
        "**Empty list:** The empty list is `[]`. It is the list equivalent of `0` or `''`.\n",
        "\n",
        "**Printing lists:** You can use the `print` function to print the entire contents of a list.\n",
        "\n",
        "**Input:** We can use `eval(input())` to allow the user to enter a list. Here is an example:\n"
      ]
    },
    {
      "cell_type": "code",
      "metadata": {
        "id": "e0ghWq8pfi8D"
      },
      "source": [
        "L = eval(input('Enter a list: '))\n",
        "print('The first element is ', L[0])"
      ],
      "execution_count": null,
      "outputs": []
    },
    {
      "cell_type": "markdown",
      "metadata": {
        "id": "nprj0sJEfi_6"
      },
      "source": [
        "**Data types:** Lists can contain all kinds of things, even other lists. For example, the following is a\n",
        "valid list:"
      ]
    },
    {
      "cell_type": "code",
      "metadata": {
        "id": "EtI1UyWBfjEp"
      },
      "source": [
        "[1, 2.718, 'abc', [5,6,7]]"
      ],
      "execution_count": null,
      "outputs": []
    },
    {
      "cell_type": "markdown",
      "metadata": {
        "id": "qp9gWWNHfjJD"
      },
      "source": [
        "## Similarities to strings\n",
        "\n",
        "There are many things which work the same way for `lists` as for `strings`.\n",
        "\n",
        "* `len` - The number of items in L is given by `len(L)`."
      ]
    },
    {
      "cell_type": "code",
      "metadata": {
        "id": "nkGrS3R7fjNa"
      },
      "source": [
        "len(my_list)\n",
        "print(my_list)"
      ],
      "execution_count": null,
      "outputs": []
    },
    {
      "cell_type": "markdown",
      "metadata": {
        "id": "aQy6Mz9rfjRr"
      },
      "source": [
        "* `in` - The `in` operator tells you if a list contains something. Here are some examples:"
      ]
    },
    {
      "cell_type": "code",
      "metadata": {
        "id": "ySwXpnbzfjV1"
      },
      "source": [
        "if 2 in my_list:\n",
        "  print('Your list contains the number 2.')\n",
        "\n",
        "if 0 not in my_list:\n",
        "  print('Your list has no zeroes.')"
      ],
      "execution_count": null,
      "outputs": []
    },
    {
      "cell_type": "markdown",
      "metadata": {
        "id": "t8YQzn4-fbj1"
      },
      "source": [
        "* `Indexing and slicing` - these work exactly as with strings. "
      ]
    },
    {
      "cell_type": "code",
      "metadata": {
        "id": "c5EuYlb2gIEP"
      },
      "source": [
        "print(my_list)\n",
        "# indexing starts at 0\n",
        "print(my_list[2])\n",
        "\n",
        "# negative: count from the right\n",
        "print(my_list[-2])\n",
        "\n",
        "# slicing list\n",
        "# from index 1, up to but not including index 3\n",
        "print(my_list[1:3])"
      ],
      "execution_count": null,
      "outputs": []
    },
    {
      "cell_type": "code",
      "metadata": {
        "id": "aaazClHVgIK0"
      },
      "source": [
        "# taking each 2nd element from list\n",
        "my_list[::2]"
      ],
      "execution_count": null,
      "outputs": []
    },
    {
      "cell_type": "code",
      "metadata": {
        "id": "_Bm53dDwgIP8"
      },
      "source": [
        "# taking each 2nd element from list starting from 2nd element\n",
        "my_list[1::2]"
      ],
      "execution_count": null,
      "outputs": []
    },
    {
      "cell_type": "code",
      "metadata": {
        "id": "-Z9axItigIVA"
      },
      "source": [
        "# reverse list\n",
        "print(my_list[::-1])\n",
        "print(my_list)"
      ],
      "execution_count": null,
      "outputs": []
    },
    {
      "cell_type": "code",
      "metadata": {
        "id": "a4MVx0EWKh5T"
      },
      "source": [
        "a = [0,0,0]\n",
        "if a:\n",
        "  print(a)"
      ],
      "execution_count": null,
      "outputs": []
    },
    {
      "cell_type": "markdown",
      "metadata": {
        "id": "mm3O-O15gIaM"
      },
      "source": [
        "* `+` and `*` - The `+` operator adds one list to the end of another. The `*` operator repeats a list.\n",
        "Here are some examples:"
      ]
    },
    {
      "cell_type": "code",
      "metadata": {
        "id": "9lcIebFagIfm"
      },
      "source": [
        "# concatenate lists\n",
        "[1, 2, 3] + [4, 5, 6]"
      ],
      "execution_count": null,
      "outputs": []
    },
    {
      "cell_type": "code",
      "metadata": {
        "id": "l-HnumgYgIl7"
      },
      "source": [
        "# repeat a the elements of the list\n",
        "my_list * 4"
      ],
      "execution_count": null,
      "outputs": []
    },
    {
      "cell_type": "markdown",
      "metadata": {
        "id": "Iszuaoe8gIsK"
      },
      "source": [
        "* The same two types of `loops` that work for `strings` also work for `lists`. "
      ]
    },
    {
      "cell_type": "code",
      "metadata": {
        "id": "kOJeWWSPgIyg"
      },
      "source": [
        "# iteration over list elements\n",
        "for i in my_list:\n",
        "  print(i * 4, end=' ')"
      ],
      "execution_count": null,
      "outputs": []
    },
    {
      "cell_type": "code",
      "metadata": {
        "id": "0EUz9-kngTzz"
      },
      "source": [
        "# iteration over list indices\n",
        "for i in range(len(my_list)):\n",
        "  print(my_list[i], end=' ')"
      ],
      "execution_count": null,
      "outputs": []
    },
    {
      "cell_type": "markdown",
      "metadata": {
        "id": "6FFI6mAEgT43"
      },
      "source": [
        "## Changing lists in place\n",
        "\n",
        "Lists are **mutable**, so they support operations that change a list object in place (by overwriting its former value)."
      ]
    },
    {
      "cell_type": "code",
      "metadata": {
        "id": "xF8fRTOfgT-O"
      },
      "source": [
        "print(my_list)\n",
        "# index assignment\n",
        "my_list[2] = 8\n",
        "print(my_list)"
      ],
      "execution_count": null,
      "outputs": []
    },
    {
      "cell_type": "code",
      "metadata": {
        "id": "QnvaDAAwgUD4"
      },
      "source": [
        "# slice assignment\n",
        "my_list[:2] = ['one', 'three']\n",
        "print(my_list)"
      ],
      "execution_count": null,
      "outputs": []
    },
    {
      "cell_type": "code",
      "metadata": {
        "id": "1axFs5jfgesX"
      },
      "source": [
        "# we can insert an additional element during the replacement\n",
        "my_list[2:3] = ['four', 'five']\n",
        "print(my_list)"
      ],
      "execution_count": null,
      "outputs": []
    },
    {
      "cell_type": "code",
      "metadata": {
        "id": "q1MMDFTHgezR"
      },
      "source": [
        "# inserting without replacement\n",
        "my_list[1:1] = ['two']\n",
        "print(my_list)"
      ],
      "execution_count": null,
      "outputs": []
    },
    {
      "cell_type": "code",
      "metadata": {
        "id": "Z5LLI459ge53"
      },
      "source": [
        "# deletion (inserting nothing)\n",
        "my_list[5:7] = []\n",
        "print(my_list)"
      ],
      "execution_count": null,
      "outputs": []
    },
    {
      "cell_type": "code",
      "metadata": {
        "id": "Lv5UUBSCge-f"
      },
      "source": [
        "# other way to delete an item\n",
        "del my_list[0]\n",
        "my_list"
      ],
      "execution_count": null,
      "outputs": []
    },
    {
      "cell_type": "code",
      "metadata": {
        "id": "Qua5muNrgfD7"
      },
      "source": [
        "# delete a slice\n",
        "del my_list[:2]\n",
        "my_list"
      ],
      "execution_count": null,
      "outputs": []
    },
    {
      "cell_type": "markdown",
      "metadata": {
        "id": "0sWjIjW9gfJa"
      },
      "source": [
        "**Making copies of lists:** Making copies of lists is a little tricky due to the way Python handles lists.\n",
        "Say we have a list `L` and we want to make a copy of the list and call it `M`. The expression `M = L` will\n",
        "not work. "
      ]
    },
    {
      "cell_type": "code",
      "metadata": {
        "id": "nSvazQLfgm4l",
        "colab": {
          "base_uri": "https://localhost:8080/",
          "height": 35
        },
        "outputId": "615258bd-3bf1-48cf-f513-f99b294cd208"
      },
      "source": [
        "L = [1,2,3]\n",
        "copy = L\n",
        "L[0] = 9\n",
        "print('L is now:', L, ' Copy:', copy)"
      ],
      "execution_count": null,
      "outputs": [
        {
          "output_type": "stream",
          "text": [
            "L is now: [9, 2, 3]  Copy: [9, 2, 3]\n"
          ],
          "name": "stdout"
        }
      ]
    },
    {
      "cell_type": "markdown",
      "metadata": {
        "id": "BeXfP_JGgm-Y"
      },
      "source": [
        "We can see that the code did not work as we might have expected. When we changed `L`, the `copy` got changed as well. We can use the following code to actually copy (**shallow copy**) a list."
      ]
    },
    {
      "cell_type": "code",
      "metadata": {
        "id": "xyW-XtnVgnDY",
        "colab": {
          "base_uri": "https://localhost:8080/",
          "height": 35
        },
        "outputId": "24b0f30b-e2b0-40e8-992c-491c19e12943"
      },
      "source": [
        "a = [7, 8]\n",
        "L = [1,2,3]\n",
        "# copy = L[:] # this line copies L\n",
        "copy = L.copy()\n",
        "L[0] = 9\n",
        "print('L is now:', L, ' Copy:', copy)"
      ],
      "execution_count": null,
      "outputs": [
        {
          "output_type": "stream",
          "text": [
            "L is now: [9, 2, 3]  Copy: [1, 2, 3]\n"
          ],
          "name": "stdout"
        }
      ]
    },
    {
      "cell_type": "code",
      "metadata": {
        "id": "WJQeYb-yOX16",
        "colab": {
          "base_uri": "https://localhost:8080/",
          "height": 35
        },
        "outputId": "05950d4f-2a49-47c2-aacc-6b7d0e845438"
      },
      "source": [
        "a = [7, 8]\n",
        "L = [1,2,3, a]\n",
        "copy = L.copy()\n",
        "L[-1][0] = 9\n",
        "print('L is now:', L, ' Copy:', copy)"
      ],
      "execution_count": null,
      "outputs": [
        {
          "output_type": "stream",
          "text": [
            "L is now: [1, 2, 3, [9, 8]]  Copy: [1, 2, 3, [9, 8]]\n"
          ],
          "name": "stdout"
        }
      ]
    },
    {
      "cell_type": "code",
      "metadata": {
        "id": "ea3BgT_kHHm7",
        "colab": {
          "base_uri": "https://localhost:8080/",
          "height": 69
        },
        "outputId": "99f0c528-1457-42c8-a988-4bcbeb1eb1e8"
      },
      "source": [
        "import copy\n",
        "a = [7, 8]\n",
        "L = [1,2,3, a]\n",
        "copy = copy.deepcopy(L)\n",
        "L[-1][0] = 0\n",
        "L[0] = 9\n",
        "print('L is now:', L, ' Copy:', copy)\n",
        "print(id(L))\n",
        "print(id(copy))"
      ],
      "execution_count": null,
      "outputs": [
        {
          "output_type": "stream",
          "text": [
            "L is now: [9, 2, 3, [0, 8]]  Copy: [1, 2, 3, [7, 8]]\n",
            "10914720\n",
            "10914720\n"
          ],
          "name": "stdout"
        }
      ]
    },
    {
      "cell_type": "markdown",
      "metadata": {
        "id": "U6YLpvejHznZ"
      },
      "source": [
        "* Making a shallow copy of an object won't clone child objects. Therefore, the copy is not fully independent of the original.\n",
        "* A deep copy of an object will recursively clone child objects. The clone is fully independent of the original, but creating a deep copy is slower."
      ]
    },
    {
      "cell_type": "markdown",
      "metadata": {
        "id": "cyg83KF_gnIe"
      },
      "source": [
        "The reason behind this behaviour is **referencing**. \n",
        "\n",
        "Remember that everything in Python is an object. This includes **numbers**, **strings**, and **lists**. When we do a simple variable assignment, like `x=487`, what actually happens is Python creates an integer\n",
        "object with the value `487`, and the variable `x` acts as a **reference to that object**. If we come along and declare `y=487`, then `y` also points to that same memory location.\n",
        "\n",
        "When we set `L=[1,2,3]`, we create a list object `[1,2,3]` and a reference, `L`, to it. When we say\n",
        "`copy=L`, we are making another reference to the object `[1,2,3]`. When we do `L[0]=9`, **because\n",
        "lists are mutable**, the list `[1,2,3]` is changed in place to `[9,2,3]`. No new object is created.\n",
        "The list `[1,2,3]` is now gone, and since copy is still pointing to the same location, it’s value is\n",
        "`[9,2,3]`.\n",
        "\n",
        "On the other hand, if we instead use `copy=L[:]`, we are actually **creating a new list object** somewhere\n",
        "else in memory so that there are two copies of `[1,2,3]` in memory. Then when we do\n",
        "`L[0]=9`, we are only changing the thing that `L` points to, and copy still points to `[1,2,3]`."
      ]
    },
    {
      "cell_type": "markdown",
      "metadata": {
        "id": "R6ByWnI2gnOj"
      },
      "source": [
        "## List method calls\n",
        "\n",
        "The above mentioned operations (insertion, deletion, reversion etc.) can be done with explicit type-specific method calls. \n",
        "\n",
        "* `append(x)` - adds `x` to the end of the list"
      ]
    },
    {
      "cell_type": "code",
      "metadata": {
        "id": "4lhpYP4cgy0N",
        "colab": {
          "base_uri": "https://localhost:8080/",
          "height": 35
        },
        "outputId": "9a6007d0-b383-4f43-bee3-22557239ba5f"
      },
      "source": [
        "append_list = [1, 3, 5, 7, 9]\n",
        "append_list.append([13, 15])\n",
        "# append_list.append(13)\n",
        "print(append_list)"
      ],
      "execution_count": null,
      "outputs": [
        {
          "output_type": "stream",
          "text": [
            "[1, 3, 5, 7, 9, [13, 15]]\n"
          ],
          "name": "stdout"
        }
      ]
    },
    {
      "cell_type": "markdown",
      "metadata": {
        "id": "_cbZmNffgy5c"
      },
      "source": [
        "* `extend(x)` - continues the list with elements in `x`, here `x` needs to be an iterable object (for example it cannot be a single number)"
      ]
    },
    {
      "cell_type": "code",
      "metadata": {
        "id": "QR_NOUHggy-A",
        "colab": {
          "base_uri": "https://localhost:8080/",
          "height": 35
        },
        "outputId": "6ff0d6ae-bb13-49ec-ffce-019a8adcf2dd"
      },
      "source": [
        "extend_list = [1, 3, 5, 7, 9] \n",
        "extend_list.extend([13, 15]) \n",
        "print(extend_list)"
      ],
      "execution_count": null,
      "outputs": [
        {
          "output_type": "stream",
          "text": [
            "[1, 3, 5, 7, 9, 13, 15]\n"
          ],
          "name": "stdout"
        }
      ]
    },
    {
      "cell_type": "markdown",
      "metadata": {
        "id": "_RC6QWT9gzDm"
      },
      "source": [
        "* `index(x)` - returns the location of the first occurrence of `x`"
      ]
    },
    {
      "cell_type": "code",
      "metadata": {
        "id": "8om2SZE8gzL_",
        "colab": {
          "base_uri": "https://localhost:8080/",
          "height": 35
        },
        "outputId": "5d2bc50c-2995-465b-b78e-fd365b41ef93"
      },
      "source": [
        "new_list = [1, 9, '9', '9']\n",
        "new_list.index('9')"
      ],
      "execution_count": null,
      "outputs": [
        {
          "output_type": "execute_result",
          "data": {
            "text/plain": [
              "2"
            ]
          },
          "metadata": {
            "tags": []
          },
          "execution_count": 28
        }
      ]
    },
    {
      "cell_type": "markdown",
      "metadata": {
        "id": "I29C2n3ehAI9"
      },
      "source": [
        "* `insert(p, x)` - inserts `x` at index `p` of the list"
      ]
    },
    {
      "cell_type": "code",
      "metadata": {
        "id": "Osf8xKzihAOo",
        "colab": {
          "base_uri": "https://localhost:8080/",
          "height": 35
        },
        "outputId": "17185c20-d30b-4997-e2a2-0e8b669b382a"
      },
      "source": [
        "new_list.insert(2, 9)\n",
        "print(new_list)"
      ],
      "execution_count": null,
      "outputs": [
        {
          "output_type": "stream",
          "text": [
            "[1, 9, 9, '9', '9']\n"
          ],
          "name": "stdout"
        }
      ]
    },
    {
      "cell_type": "markdown",
      "metadata": {
        "id": "SvWAPlKzhAUZ"
      },
      "source": [
        "* `remove(x)` removes first occurrence of `x` from the list"
      ]
    },
    {
      "cell_type": "code",
      "metadata": {
        "id": "MknjnP2DhAZz"
      },
      "source": [
        "new_list.remove('9')\n",
        "print(new_list)"
      ],
      "execution_count": null,
      "outputs": []
    },
    {
      "cell_type": "markdown",
      "metadata": {
        "id": "9ZOGB8OHgnT8"
      },
      "source": [
        "* `pop(p)` removes the item at index `p` and returns its value"
      ]
    },
    {
      "cell_type": "code",
      "metadata": {
        "id": "bCp3LFOShJO-",
        "colab": {
          "base_uri": "https://localhost:8080/",
          "height": 35
        },
        "outputId": "a3a6aa1e-fc29-441c-b1c3-7d46c1a81f95"
      },
      "source": [
        "new_list.pop(-1)"
      ],
      "execution_count": null,
      "outputs": [
        {
          "output_type": "execute_result",
          "data": {
            "application/vnd.google.colaboratory.intrinsic+json": {
              "type": "string"
            },
            "text/plain": [
              "'9'"
            ]
          },
          "metadata": {
            "tags": []
          },
          "execution_count": 32
        }
      ]
    },
    {
      "cell_type": "code",
      "metadata": {
        "id": "3KPxxnvChJUw",
        "colab": {
          "base_uri": "https://localhost:8080/",
          "height": 35
        },
        "outputId": "931afe46-6b66-46f9-a393-96d3de692f78"
      },
      "source": [
        "print(new_list)"
      ],
      "execution_count": null,
      "outputs": [
        {
          "output_type": "stream",
          "text": [
            "[1, 9, 9]\n"
          ],
          "name": "stdout"
        }
      ]
    },
    {
      "cell_type": "markdown",
      "metadata": {
        "id": "RUy7-PjlhJaQ"
      },
      "source": [
        "* `count(x)` returns the number of times `x` occurs in the list"
      ]
    },
    {
      "cell_type": "code",
      "metadata": {
        "id": "ZF7hqxMUhJf1",
        "colab": {
          "base_uri": "https://localhost:8080/",
          "height": 35
        },
        "outputId": "56882287-cef6-48dd-a7e4-24f06a7a154b"
      },
      "source": [
        "# count number of occurrences\n",
        "# how many 9s does this list contain\n",
        "new_list.count(9)"
      ],
      "execution_count": null,
      "outputs": [
        {
          "output_type": "execute_result",
          "data": {
            "text/plain": [
              "2"
            ]
          },
          "metadata": {
            "tags": []
          },
          "execution_count": 34
        }
      ]
    },
    {
      "cell_type": "markdown",
      "metadata": {
        "id": "cnrcTGsngnXY"
      },
      "source": [
        "* `sort()` - sorts the list"
      ]
    },
    {
      "cell_type": "code",
      "metadata": {
        "id": "P6KCNYfXhPJD",
        "colab": {
          "base_uri": "https://localhost:8080/",
          "height": 35
        },
        "outputId": "22dbae34-9d01-4d9d-a725-e5ff4340be12"
      },
      "source": [
        "# sorting a list (by default ascending (increasing) order )\n",
        "new_list.sort()\n",
        "new_list  # upper case letters come first"
      ],
      "execution_count": null,
      "outputs": [
        {
          "output_type": "execute_result",
          "data": {
            "text/plain": [
              "[1, 9, 9]"
            ]
          },
          "metadata": {
            "tags": []
          },
          "execution_count": 35
        }
      ]
    },
    {
      "cell_type": "code",
      "metadata": {
        "id": "7ZD799pehPN1",
        "colab": {
          "base_uri": "https://localhost:8080/",
          "height": 35
        },
        "outputId": "de7c0d98-e938-4cbe-b13c-887b5b7dfa62"
      },
      "source": [
        "# sorting in descending order\n",
        "new_list.sort(reverse=True)\n",
        "new_list  "
      ],
      "execution_count": null,
      "outputs": [
        {
          "output_type": "execute_result",
          "data": {
            "text/plain": [
              "[9, 9, 1]"
            ]
          },
          "metadata": {
            "tags": []
          },
          "execution_count": 36
        }
      ]
    },
    {
      "cell_type": "code",
      "metadata": {
        "id": "AfOPs4IihPSR"
      },
      "source": [
        "new_list = ['Ab', 'a', 'g', 'b']"
      ],
      "execution_count": null,
      "outputs": []
    },
    {
      "cell_type": "code",
      "metadata": {
        "id": "aUTIg4fGhPXJ",
        "colab": {
          "base_uri": "https://localhost:8080/",
          "height": 35
        },
        "outputId": "48ea54f2-dfb4-4624-bee6-4d7b89f6bf73"
      },
      "source": [
        "# we can ignore the case type by considering the items as lower case\n",
        "new_list.sort()\n",
        "new_list"
      ],
      "execution_count": null,
      "outputs": [
        {
          "output_type": "execute_result",
          "data": {
            "text/plain": [
              "['Ab', 'a', 'b', 'g']"
            ]
          },
          "metadata": {
            "tags": []
          },
          "execution_count": 48
        }
      ]
    },
    {
      "cell_type": "markdown",
      "metadata": {
        "id": "Cd0KgkZbgnck"
      },
      "source": [
        "* `reverse()` - reverses the list"
      ]
    },
    {
      "cell_type": "code",
      "metadata": {
        "id": "VYtF2iPVhW-1",
        "colab": {
          "base_uri": "https://localhost:8080/",
          "height": 35
        },
        "outputId": "783309ce-db44-4d7e-f80b-2bfd204148ee"
      },
      "source": [
        "new_list = ['We', 'need', 'a', 'list']\n",
        "# reverse the list in place\n",
        "new_list.reverse()\n",
        "print(new_list)"
      ],
      "execution_count": null,
      "outputs": [
        {
          "output_type": "stream",
          "text": [
            "['list', 'a', 'need', 'We']\n"
          ],
          "name": "stdout"
        }
      ]
    },
    {
      "cell_type": "markdown",
      "metadata": {
        "id": "3KSELc0ohXDo"
      },
      "source": [
        "**Important note:** There is a big difference between `list methods` and `string methods`:\n",
        "\n",
        "* String methods do not change the original string\n",
        "\n",
        "* List methods do change the original list. \n",
        "\n",
        "For example, to sort a list `L`, just use `L.sort()` and not `L = L.sort()`. \n",
        "\n",
        "**Other list methods:** There are a few others list methods. Type help(list) to\n",
        "see some documentation for them."
      ]
    },
    {
      "cell_type": "code",
      "metadata": {
        "id": "XTTCC78HhXIU",
        "colab": {
          "base_uri": "https://localhost:8080/",
          "height": 1000
        },
        "outputId": "a889a5c3-14c1-407b-9578-1fd5002fb6c0"
      },
      "source": [
        "help(list)"
      ],
      "execution_count": null,
      "outputs": [
        {
          "output_type": "stream",
          "text": [
            "Help on class list in module builtins:\n",
            "\n",
            "class list(object)\n",
            " |  list() -> new empty list\n",
            " |  list(iterable) -> new list initialized from iterable's items\n",
            " |  \n",
            " |  Methods defined here:\n",
            " |  \n",
            " |  __add__(self, value, /)\n",
            " |      Return self+value.\n",
            " |  \n",
            " |  __contains__(self, key, /)\n",
            " |      Return key in self.\n",
            " |  \n",
            " |  __delitem__(self, key, /)\n",
            " |      Delete self[key].\n",
            " |  \n",
            " |  __eq__(self, value, /)\n",
            " |      Return self==value.\n",
            " |  \n",
            " |  __ge__(self, value, /)\n",
            " |      Return self>=value.\n",
            " |  \n",
            " |  __getattribute__(self, name, /)\n",
            " |      Return getattr(self, name).\n",
            " |  \n",
            " |  __getitem__(...)\n",
            " |      x.__getitem__(y) <==> x[y]\n",
            " |  \n",
            " |  __gt__(self, value, /)\n",
            " |      Return self>value.\n",
            " |  \n",
            " |  __iadd__(self, value, /)\n",
            " |      Implement self+=value.\n",
            " |  \n",
            " |  __imul__(self, value, /)\n",
            " |      Implement self*=value.\n",
            " |  \n",
            " |  __init__(self, /, *args, **kwargs)\n",
            " |      Initialize self.  See help(type(self)) for accurate signature.\n",
            " |  \n",
            " |  __iter__(self, /)\n",
            " |      Implement iter(self).\n",
            " |  \n",
            " |  __le__(self, value, /)\n",
            " |      Return self<=value.\n",
            " |  \n",
            " |  __len__(self, /)\n",
            " |      Return len(self).\n",
            " |  \n",
            " |  __lt__(self, value, /)\n",
            " |      Return self<value.\n",
            " |  \n",
            " |  __mul__(self, value, /)\n",
            " |      Return self*value.\n",
            " |  \n",
            " |  __ne__(self, value, /)\n",
            " |      Return self!=value.\n",
            " |  \n",
            " |  __new__(*args, **kwargs) from builtins.type\n",
            " |      Create and return a new object.  See help(type) for accurate signature.\n",
            " |  \n",
            " |  __repr__(self, /)\n",
            " |      Return repr(self).\n",
            " |  \n",
            " |  __reversed__(...)\n",
            " |      L.__reversed__() -- return a reverse iterator over the list\n",
            " |  \n",
            " |  __rmul__(self, value, /)\n",
            " |      Return value*self.\n",
            " |  \n",
            " |  __setitem__(self, key, value, /)\n",
            " |      Set self[key] to value.\n",
            " |  \n",
            " |  __sizeof__(...)\n",
            " |      L.__sizeof__() -- size of L in memory, in bytes\n",
            " |  \n",
            " |  append(...)\n",
            " |      L.append(object) -> None -- append object to end\n",
            " |  \n",
            " |  clear(...)\n",
            " |      L.clear() -> None -- remove all items from L\n",
            " |  \n",
            " |  copy(...)\n",
            " |      L.copy() -> list -- a shallow copy of L\n",
            " |  \n",
            " |  count(...)\n",
            " |      L.count(value) -> integer -- return number of occurrences of value\n",
            " |  \n",
            " |  extend(...)\n",
            " |      L.extend(iterable) -> None -- extend list by appending elements from the iterable\n",
            " |  \n",
            " |  index(...)\n",
            " |      L.index(value, [start, [stop]]) -> integer -- return first index of value.\n",
            " |      Raises ValueError if the value is not present.\n",
            " |  \n",
            " |  insert(...)\n",
            " |      L.insert(index, object) -- insert object before index\n",
            " |  \n",
            " |  pop(...)\n",
            " |      L.pop([index]) -> item -- remove and return item at index (default last).\n",
            " |      Raises IndexError if list is empty or index is out of range.\n",
            " |  \n",
            " |  remove(...)\n",
            " |      L.remove(value) -> None -- remove first occurrence of value.\n",
            " |      Raises ValueError if the value is not present.\n",
            " |  \n",
            " |  reverse(...)\n",
            " |      L.reverse() -- reverse *IN PLACE*\n",
            " |  \n",
            " |  sort(...)\n",
            " |      L.sort(key=None, reverse=False) -> None -- stable sort *IN PLACE*\n",
            " |  \n",
            " |  ----------------------------------------------------------------------\n",
            " |  Data and other attributes defined here:\n",
            " |  \n",
            " |  __hash__ = None\n",
            "\n"
          ],
          "name": "stdout"
        }
      ]
    },
    {
      "cell_type": "code",
      "metadata": {
        "id": "3iUjHyUKhXMA",
        "colab": {
          "base_uri": "https://localhost:8080/",
          "height": 815
        },
        "outputId": "062ee1c4-e71b-4c0b-e45e-78b58e3342d2"
      },
      "source": [
        "dir(list)"
      ],
      "execution_count": null,
      "outputs": [
        {
          "output_type": "execute_result",
          "data": {
            "text/plain": [
              "['__add__',\n",
              " '__class__',\n",
              " '__contains__',\n",
              " '__delattr__',\n",
              " '__delitem__',\n",
              " '__dir__',\n",
              " '__doc__',\n",
              " '__eq__',\n",
              " '__format__',\n",
              " '__ge__',\n",
              " '__getattribute__',\n",
              " '__getitem__',\n",
              " '__gt__',\n",
              " '__hash__',\n",
              " '__iadd__',\n",
              " '__imul__',\n",
              " '__init__',\n",
              " '__init_subclass__',\n",
              " '__iter__',\n",
              " '__le__',\n",
              " '__len__',\n",
              " '__lt__',\n",
              " '__mul__',\n",
              " '__ne__',\n",
              " '__new__',\n",
              " '__reduce__',\n",
              " '__reduce_ex__',\n",
              " '__repr__',\n",
              " '__reversed__',\n",
              " '__rmul__',\n",
              " '__setattr__',\n",
              " '__setitem__',\n",
              " '__sizeof__',\n",
              " '__str__',\n",
              " '__subclasshook__',\n",
              " 'append',\n",
              " 'clear',\n",
              " 'copy',\n",
              " 'count',\n",
              " 'extend',\n",
              " 'index',\n",
              " 'insert',\n",
              " 'pop',\n",
              " 'remove',\n",
              " 'reverse',\n",
              " 'sort']"
            ]
          },
          "metadata": {
            "tags": []
          },
          "execution_count": 52
        }
      ]
    },
    {
      "cell_type": "markdown",
      "metadata": {
        "id": "PwKyulM5hXQY"
      },
      "source": [
        "## Built-in functions\n",
        "\n",
        "There are several built-in functions that operate on lists, such as `len`, `sum`, `min`, `max` etc. "
      ]
    },
    {
      "cell_type": "code",
      "metadata": {
        "id": "fqebRB2BhgHG",
        "colab": {
          "base_uri": "https://localhost:8080/",
          "height": 35
        },
        "outputId": "710d658f-5abd-4b58-f156-3bb0afcaf5b9"
      },
      "source": [
        "len([1, 2, 3])"
      ],
      "execution_count": null,
      "outputs": [
        {
          "output_type": "execute_result",
          "data": {
            "text/plain": [
              "3"
            ]
          },
          "metadata": {
            "tags": []
          },
          "execution_count": 53
        }
      ]
    },
    {
      "cell_type": "code",
      "metadata": {
        "id": "LGrYXrSIhojb",
        "colab": {
          "base_uri": "https://localhost:8080/",
          "height": 35
        },
        "outputId": "8ad291ba-ca00-4bb7-e85e-98e4bc06bb00"
      },
      "source": [
        "sum([1, 2, 3])"
      ],
      "execution_count": null,
      "outputs": [
        {
          "output_type": "execute_result",
          "data": {
            "text/plain": [
              "6"
            ]
          },
          "metadata": {
            "tags": []
          },
          "execution_count": 54
        }
      ]
    },
    {
      "cell_type": "code",
      "metadata": {
        "id": "UEy8SiA-hopZ",
        "colab": {
          "base_uri": "https://localhost:8080/",
          "height": 35
        },
        "outputId": "e4a820a5-8ac5-4bf9-c003-311738de75c9"
      },
      "source": [
        "min([1, 2, 3])"
      ],
      "execution_count": null,
      "outputs": [
        {
          "output_type": "execute_result",
          "data": {
            "text/plain": [
              "1"
            ]
          },
          "metadata": {
            "tags": []
          },
          "execution_count": 55
        }
      ]
    },
    {
      "cell_type": "code",
      "metadata": {
        "id": "O_pocwHIhovQ",
        "colab": {
          "base_uri": "https://localhost:8080/",
          "height": 35
        },
        "outputId": "c641650f-9e5d-4a69-cf2e-f81de3459aef"
      },
      "source": [
        "max([1, 2, 3])"
      ],
      "execution_count": null,
      "outputs": [
        {
          "output_type": "execute_result",
          "data": {
            "text/plain": [
              "3"
            ]
          },
          "metadata": {
            "tags": []
          },
          "execution_count": 56
        }
      ]
    },
    {
      "cell_type": "markdown",
      "metadata": {
        "id": "Bj5NUTdDhgM0"
      },
      "source": [
        "Another option for list reversion, sorting using a built-in function"
      ]
    },
    {
      "cell_type": "code",
      "metadata": {
        "id": "G4wtabfYhgQ_",
        "colab": {
          "base_uri": "https://localhost:8080/",
          "height": 35
        },
        "outputId": "59155ebb-39a7-4b87-cbef-546206e355f5"
      },
      "source": [
        "list(reversed(new_list))"
      ],
      "execution_count": null,
      "outputs": [
        {
          "output_type": "execute_result",
          "data": {
            "text/plain": [
              "['We', 'need', 'a', 'list']"
            ]
          },
          "metadata": {
            "tags": []
          },
          "execution_count": 61
        }
      ]
    },
    {
      "cell_type": "code",
      "metadata": {
        "id": "ivd05C7uhujn",
        "colab": {
          "base_uri": "https://localhost:8080/",
          "height": 35
        },
        "outputId": "e163eddb-d4db-4f0b-ca0f-36e1a5e19ae6"
      },
      "source": [
        "new_list"
      ],
      "execution_count": null,
      "outputs": [
        {
          "output_type": "execute_result",
          "data": {
            "text/plain": [
              "['list', 'a', 'need', 'We']"
            ]
          },
          "metadata": {
            "tags": []
          },
          "execution_count": 58
        }
      ]
    },
    {
      "cell_type": "code",
      "metadata": {
        "id": "rKblTWWxhupA",
        "colab": {
          "base_uri": "https://localhost:8080/",
          "height": 35
        },
        "outputId": "4afd68d7-0a3e-4e14-ad81-6fcf28794157"
      },
      "source": [
        "# another way to sort lists\n",
        "sorted(new_list, key=str.lower, reverse=True)"
      ],
      "execution_count": null,
      "outputs": [
        {
          "output_type": "execute_result",
          "data": {
            "text/plain": [
              "['We', 'need', 'list', 'a']"
            ]
          },
          "metadata": {
            "tags": []
          },
          "execution_count": 59
        }
      ]
    },
    {
      "cell_type": "markdown",
      "metadata": {
        "id": "7Tnj6IAnhuxJ"
      },
      "source": [
        "## Random elements from a list"
      ]
    },
    {
      "cell_type": "markdown",
      "metadata": {
        "id": "T9oyj7p3hzSy"
      },
      "source": [
        "Earlier we learnt about the `random` module. There are some nice functions that work on lists. For example:\n",
        "\n",
        "* `choice(L)` - selects a random item from L"
      ]
    },
    {
      "cell_type": "code",
      "metadata": {
        "id": "nXmd9eYih3GF",
        "colab": {
          "base_uri": "https://localhost:8080/",
          "height": 35
        },
        "outputId": "a33cc1b0-0cd9-4327-899e-6299fe7bf751"
      },
      "source": [
        "import random\n",
        "print(random.choice([0, 1, 2, 3]))"
      ],
      "execution_count": null,
      "outputs": [
        {
          "output_type": "stream",
          "text": [
            "0\n"
          ],
          "name": "stdout"
        }
      ]
    },
    {
      "cell_type": "markdown",
      "metadata": {
        "id": "nOqK-Vlvh3LE"
      },
      "source": [
        "* `sample(L, n)` - selects a group of `n` random items from `L`"
      ]
    },
    {
      "cell_type": "code",
      "metadata": {
        "id": "w6_tLaxqhzX9",
        "colab": {
          "base_uri": "https://localhost:8080/",
          "height": 35
        },
        "outputId": "911c4257-28d0-4d78-d561-3b2a68a02fe7"
      },
      "source": [
        "print(random.sample(['one', 'two', 'three'], 2))"
      ],
      "execution_count": null,
      "outputs": [
        {
          "output_type": "stream",
          "text": [
            "['three', 'one']\n"
          ],
          "name": "stdout"
        }
      ]
    },
    {
      "cell_type": "markdown",
      "metadata": {
        "id": "bAOELClyhzcX"
      },
      "source": [
        "Both `sample()` and `choice()` work on strings as well"
      ]
    },
    {
      "cell_type": "markdown",
      "metadata": {
        "id": "etDO3lEyh_Tm"
      },
      "source": [
        "* `shuffle(L)` - Shuffles the items of `L` **in place**"
      ]
    },
    {
      "cell_type": "code",
      "metadata": {
        "id": "kVNycKi1h_ZO",
        "colab": {
          "base_uri": "https://localhost:8080/",
          "height": 35
        },
        "outputId": "3c658564-ddda-449d-e80c-8b1b287747be"
      },
      "source": [
        "L = ['one', 'two', 'three']\n",
        "random.shuffle(L)\n",
        "print(L)"
      ],
      "execution_count": null,
      "outputs": [
        {
          "output_type": "stream",
          "text": [
            "['two', 'one', 'three']\n"
          ],
          "name": "stdout"
        }
      ]
    },
    {
      "cell_type": "markdown",
      "metadata": {
        "id": "kX7Hk-uZh_eo"
      },
      "source": [
        "## Split, Join strings\n",
        "\n",
        "The `split()` method returns a list of words of a string. The method assumes that words are separated\n",
        "by whitespace or other characters. Here is an example:"
      ]
    },
    {
      "cell_type": "code",
      "metadata": {
        "id": "iEF0ziEdh_kA",
        "colab": {
          "base_uri": "https://localhost:8080/",
          "height": 35
        },
        "outputId": "016c815f-09b1-4cd9-ca59-e4fcd25b8d70"
      },
      "source": [
        "s = 'Here are some words.'\n",
        "print(s.split())"
      ],
      "execution_count": null,
      "outputs": [
        {
          "output_type": "stream",
          "text": [
            "['Here', 'are', 'some', 'words.']\n"
          ],
          "name": "stdout"
        }
      ]
    },
    {
      "cell_type": "code",
      "metadata": {
        "id": "FE_OerdOhu1y",
        "colab": {
          "base_uri": "https://localhost:8080/",
          "height": 35
        },
        "outputId": "d388a200-75f7-4036-ef54-88994a887f59"
      },
      "source": [
        "s = 'Here - are - some - words.'\n",
        "print(s.split(' - '))"
      ],
      "execution_count": null,
      "outputs": [
        {
          "output_type": "stream",
          "text": [
            "['Here', 'are', 'some', 'words.']\n"
          ],
          "name": "stdout"
        }
      ]
    },
    {
      "cell_type": "markdown",
      "metadata": {
        "id": "qjN4t1XkiNeX"
      },
      "source": [
        "The `join()` method is the opposite of `split()`. It is a string method that takes a `list of strings` and **joins them together** into a single string. Here are some examples:"
      ]
    },
    {
      "cell_type": "code",
      "metadata": {
        "id": "6GI8A07ziNjQ",
        "colab": {
          "base_uri": "https://localhost:8080/",
          "height": 35
        },
        "outputId": "2213c22a-ab35-42e1-e41c-6be6d4c77ebf"
      },
      "source": [
        "L = ['a', 'b', 'c']\n",
        "print(''.join(L))"
      ],
      "execution_count": null,
      "outputs": [
        {
          "output_type": "stream",
          "text": [
            "abc\n"
          ],
          "name": "stdout"
        }
      ]
    },
    {
      "cell_type": "code",
      "metadata": {
        "id": "Hr3v5_k8iNoZ",
        "colab": {
          "base_uri": "https://localhost:8080/",
          "height": 35
        },
        "outputId": "95b81ec1-26e4-414f-fc09-5b7cede94551"
      },
      "source": [
        "print(' '.join(L))"
      ],
      "execution_count": null,
      "outputs": [
        {
          "output_type": "stream",
          "text": [
            "a b c\n"
          ],
          "name": "stdout"
        }
      ]
    },
    {
      "cell_type": "code",
      "metadata": {
        "id": "ya-yLEyXiNs8",
        "colab": {
          "base_uri": "https://localhost:8080/",
          "height": 35
        },
        "outputId": "6b972671-77a7-40a2-dd80-4c3aee11d63d"
      },
      "source": [
        "print('-|-'.join(L))"
      ],
      "execution_count": null,
      "outputs": [
        {
          "output_type": "stream",
          "text": [
            "a-|-b-|-c\n"
          ],
          "name": "stdout"
        }
      ]
    },
    {
      "cell_type": "markdown",
      "metadata": {
        "id": "PSIkVXNPiNxd"
      },
      "source": [
        "# List comprehensions\n",
        "\n",
        "List comprehensions are a powerful way to create lists using a **for** loop in one line. Here is a simple example:"
      ]
    },
    {
      "cell_type": "code",
      "metadata": {
        "id": "DuAwpX6SiUNs",
        "colab": {
          "base_uri": "https://localhost:8080/",
          "height": 35
        },
        "outputId": "68a751de-3630-4451-d7db-47a637ba38f9"
      },
      "source": [
        "L = [i for i in range(5)]\n",
        "print(L)\n",
        "\n",
        "# L = []\n",
        "# for i in range(5):\n",
        "#   L += [i]\n",
        "# print(L)"
      ],
      "execution_count": null,
      "outputs": [
        {
          "output_type": "stream",
          "text": [
            "[0, 1, 2, 3, 4]\n"
          ],
          "name": "stdout"
        }
      ]
    },
    {
      "cell_type": "code",
      "metadata": {
        "id": "04MAN2j6iUSU",
        "colab": {
          "base_uri": "https://localhost:8080/",
          "height": 35
        },
        "outputId": "8523780a-d95c-4a35-a34d-8872799984d2"
      },
      "source": [
        "[0 for i in range(10)]"
      ],
      "execution_count": null,
      "outputs": [
        {
          "output_type": "execute_result",
          "data": {
            "text/plain": [
              "[0, 0, 0, 0, 0, 0, 0, 0, 0, 0]"
            ]
          },
          "metadata": {
            "tags": []
          },
          "execution_count": 75
        }
      ]
    },
    {
      "cell_type": "code",
      "metadata": {
        "id": "N7JHB6nSiUW2",
        "colab": {
          "base_uri": "https://localhost:8080/",
          "height": 35
        },
        "outputId": "644e1063-898c-4d85-c62d-26695a095df5"
      },
      "source": [
        "[i**3 for i in range(1,8)]"
      ],
      "execution_count": null,
      "outputs": [
        {
          "output_type": "execute_result",
          "data": {
            "text/plain": [
              "[1, 8, 27, 64, 125, 216, 343]"
            ]
          },
          "metadata": {
            "tags": []
          },
          "execution_count": 76
        }
      ]
    },
    {
      "cell_type": "code",
      "metadata": {
        "id": "OhyXREK7iUbM",
        "colab": {
          "base_uri": "https://localhost:8080/",
          "height": 35
        },
        "outputId": "9d473f15-7586-4689-f97b-d50008a2d751"
      },
      "source": [
        "[i*10 for i in L]"
      ],
      "execution_count": null,
      "outputs": [
        {
          "output_type": "execute_result",
          "data": {
            "text/plain": [
              "[0, 10, 20, 30, 40]"
            ]
          },
          "metadata": {
            "tags": []
          },
          "execution_count": 77
        }
      ]
    },
    {
      "cell_type": "code",
      "metadata": {
        "id": "2YRNDPAdiUgW",
        "colab": {
          "base_uri": "https://localhost:8080/",
          "height": 35
        },
        "outputId": "6c57df78-7ee3-40e2-d2b6-78b5de27f3ca"
      },
      "source": [
        "string = 'Hello'\n",
        "[c*2 for c in string]"
      ],
      "execution_count": null,
      "outputs": [
        {
          "output_type": "execute_result",
          "data": {
            "text/plain": [
              "['HH', 'ee', 'll', 'll', 'oo']"
            ]
          },
          "metadata": {
            "tags": []
          },
          "execution_count": 78
        }
      ]
    },
    {
      "cell_type": "code",
      "metadata": {
        "id": "7yWbEUE9ic3t",
        "colab": {
          "base_uri": "https://localhost:8080/",
          "height": 35
        },
        "outputId": "d53e40fa-e953-4a30-b4ba-b9fcf248deb9"
      },
      "source": [
        "k = ['one', 'two', 'three', 'four', 'five', 'six']\n",
        "[m[0] for m in k]"
      ],
      "execution_count": null,
      "outputs": [
        {
          "output_type": "execute_result",
          "data": {
            "text/plain": [
              "['o', 't', 't', 'f', 'f', 's']"
            ]
          },
          "metadata": {
            "tags": []
          },
          "execution_count": 79
        }
      ]
    },
    {
      "cell_type": "markdown",
      "metadata": {
        "id": "uOll08iIic8l"
      },
      "source": [
        "Combining a **ternary operator** in list comprehensions."
      ]
    },
    {
      "cell_type": "code",
      "metadata": {
        "id": "PIB6prGSidBJ",
        "colab": {
          "base_uri": "https://localhost:8080/",
          "height": 35
        },
        "outputId": "92ae9105-7db7-4031-b051-3ad9501d8293"
      },
      "source": [
        "L"
      ],
      "execution_count": null,
      "outputs": [
        {
          "output_type": "execute_result",
          "data": {
            "text/plain": [
              "[0, 1, 2, 3, 4]"
            ]
          },
          "metadata": {
            "tags": []
          },
          "execution_count": 80
        }
      ]
    },
    {
      "cell_type": "code",
      "metadata": {
        "id": "it5OFUZRidGM",
        "colab": {
          "base_uri": "https://localhost:8080/",
          "height": 35
        },
        "outputId": "6685c598-f80e-48db-a997-de998ae4992b"
      },
      "source": [
        "[i for i in L if i < 4]"
      ],
      "execution_count": null,
      "outputs": [
        {
          "output_type": "execute_result",
          "data": {
            "text/plain": [
              "[0, 1, 2, 3]"
            ]
          },
          "metadata": {
            "tags": []
          },
          "execution_count": 81
        }
      ]
    },
    {
      "cell_type": "code",
      "metadata": {
        "id": "qhmUM-zlihRT",
        "colab": {
          "base_uri": "https://localhost:8080/",
          "height": 35
        },
        "outputId": "2965452f-ccde-427c-d9ce-31bd168c6f62"
      },
      "source": [
        "[m[0] for m in k if len(m) == 3]"
      ],
      "execution_count": null,
      "outputs": [
        {
          "output_type": "execute_result",
          "data": {
            "text/plain": [
              "['o', 't', 's']"
            ]
          },
          "metadata": {
            "tags": []
          },
          "execution_count": 82
        }
      ]
    },
    {
      "cell_type": "markdown",
      "metadata": {
        "id": "Aur5YJOCihXg"
      },
      "source": [
        "The above code could be written in the ordinary way like this:"
      ]
    },
    {
      "cell_type": "code",
      "metadata": {
        "id": "WtUX_JHiihcH",
        "colab": {
          "base_uri": "https://localhost:8080/",
          "height": 35
        },
        "outputId": "ee4f7be5-751f-4850-bd40-b8e0591162c5"
      },
      "source": [
        "L = []\n",
        "for m in k:\n",
        "  if len(m) == 3:\n",
        "    L.append(m[0])\n",
        "print(L)"
      ],
      "execution_count": null,
      "outputs": [
        {
          "output_type": "stream",
          "text": [
            "['o', 't', 's']\n"
          ],
          "name": "stdout"
        }
      ]
    },
    {
      "cell_type": "code",
      "metadata": {
        "id": "vdvMc4XhdR-o",
        "colab": {
          "base_uri": "https://localhost:8080/",
          "height": 35
        },
        "outputId": "e17a3757-326e-465e-ef41-c3a70355db79"
      },
      "source": [
        "[m[0] if len(m) == 3 else 'ok' for m in k]"
      ],
      "execution_count": null,
      "outputs": [
        {
          "output_type": "execute_result",
          "data": {
            "text/plain": [
              "['o', 't', 'ok', 'ok', 'ok', 's']"
            ]
          },
          "metadata": {
            "tags": []
          },
          "execution_count": 85
        }
      ]
    },
    {
      "cell_type": "markdown",
      "metadata": {
        "id": "x_SWDZKRihhp"
      },
      "source": [
        "We can use more than one **for** loop in a list comprehension:"
      ]
    },
    {
      "cell_type": "code",
      "metadata": {
        "id": "SkCN5KaIjJ3e",
        "colab": {
          "base_uri": "https://localhost:8080/",
          "height": 35
        },
        "outputId": "3a764bf6-7bbe-4964-a10c-3582517f44c3"
      },
      "source": [
        "L = [[i,j] for i in range(2) for j in range(2)]\n",
        "print(L)"
      ],
      "execution_count": null,
      "outputs": [
        {
          "output_type": "stream",
          "text": [
            "[[0, 0], [0, 1], [1, 0], [1, 1]]\n"
          ],
          "name": "stdout"
        }
      ]
    },
    {
      "cell_type": "markdown",
      "metadata": {
        "id": "eddZyETAjJ8V"
      },
      "source": [
        "This is the equivalent of the following code:"
      ]
    },
    {
      "cell_type": "code",
      "metadata": {
        "id": "Tec4VQTwjKCI",
        "colab": {
          "base_uri": "https://localhost:8080/",
          "height": 35
        },
        "outputId": "7c7c4c8e-c75d-4a27-ad51-bd36a0c49b8f"
      },
      "source": [
        "L = []\n",
        "for i in range(2):\n",
        "  for j in range(2):\n",
        "    L.append([i, j])\n",
        "print(L)"
      ],
      "execution_count": null,
      "outputs": [
        {
          "output_type": "stream",
          "text": [
            "[[0, 0], [0, 1], [1, 0], [1, 1]]\n"
          ],
          "name": "stdout"
        }
      ]
    },
    {
      "cell_type": "markdown",
      "metadata": {
        "id": "KcQtzyjMjKKj"
      },
      "source": [
        "Here is another example:"
      ]
    },
    {
      "cell_type": "code",
      "metadata": {
        "id": "jR2qVV3sjQS1"
      },
      "source": [
        "[[i, j] for i in range(1, 4) for j in range(i)]"
      ],
      "execution_count": null,
      "outputs": []
    },
    {
      "cell_type": "markdown",
      "metadata": {
        "id": "REQ_kbRfjSnh"
      },
      "source": [
        "## Two-dimensional lists\n",
        "\n",
        "We can nest lists and other object types within lists. For example, we can use nested lists to represent matrices"
      ]
    },
    {
      "cell_type": "code",
      "metadata": {
        "id": "fKwcAv3djSij"
      },
      "source": [
        "matrix = [[1, 2, 3],\n",
        "          [4, 5, 6],\n",
        "          [7, 8, 9]]\n",
        "\n",
        "# or in one line \n",
        "# matrix = [[1, 2, 3], [4, 5, 6], [7, 8, 9]]"
      ],
      "execution_count": null,
      "outputs": []
    },
    {
      "cell_type": "code",
      "metadata": {
        "id": "8yok4faUgF6s",
        "colab": {
          "base_uri": "https://localhost:8080/",
          "height": 35
        },
        "outputId": "0011f849-ce7f-4434-c261-de6453cf5674"
      },
      "source": [
        "[i[j] for i in matrix for j in range(len(i))]"
      ],
      "execution_count": null,
      "outputs": [
        {
          "output_type": "execute_result",
          "data": {
            "text/plain": [
              "[1, 2, 3, 4, 5, 6, 7, 8, 9]"
            ]
          },
          "metadata": {
            "tags": []
          },
          "execution_count": 100
        }
      ]
    },
    {
      "cell_type": "markdown",
      "metadata": {
        "id": "qrqgXTKQjZPs"
      },
      "source": [
        "With one index we get one row (a nested sublist)\n"
      ]
    },
    {
      "cell_type": "code",
      "metadata": {
        "id": "MYxUki62jZUg",
        "colab": {
          "base_uri": "https://localhost:8080/",
          "height": 35
        },
        "outputId": "63675063-d238-49c8-fea7-71751780b21f"
      },
      "source": [
        "matrix[2]"
      ],
      "execution_count": null,
      "outputs": [
        {
          "output_type": "execute_result",
          "data": {
            "text/plain": [
              "[7, 8, 9]"
            ]
          },
          "metadata": {
            "tags": []
          },
          "execution_count": 92
        }
      ]
    },
    {
      "cell_type": "markdown",
      "metadata": {
        "id": "HgcEfhn8jZKM"
      },
      "source": [
        "With two indices we get an item within the row"
      ]
    },
    {
      "cell_type": "code",
      "metadata": {
        "id": "bik_QUETjQXd",
        "colab": {
          "base_uri": "https://localhost:8080/",
          "height": 52
        },
        "outputId": "659adc12-619e-4df6-9553-eb4ed254a22a"
      },
      "source": [
        "print(matrix[2][1])\n",
        "print(matrix[1][1])"
      ],
      "execution_count": null,
      "outputs": [
        {
          "output_type": "stream",
          "text": [
            "8\n",
            "5\n"
          ],
          "name": "stdout"
        }
      ]
    },
    {
      "cell_type": "markdown",
      "metadata": {
        "id": "AFZiefNKjga_"
      },
      "source": [
        "We can process the items of a two-dimensional lists using nested for loops"
      ]
    },
    {
      "cell_type": "code",
      "metadata": {
        "id": "y7iMtaYSjghN",
        "colab": {
          "base_uri": "https://localhost:8080/",
          "height": 35
        },
        "outputId": "024bd886-0701-4a8e-f556-b017349d31e9"
      },
      "source": [
        "for row in matrix:\n",
        "  for j in row:\n",
        "    print(j, end=\" \")"
      ],
      "execution_count": null,
      "outputs": [
        {
          "output_type": "stream",
          "text": [
            "1 2 3 4 5 6 7 8 9 "
          ],
          "name": "stdout"
        }
      ]
    },
    {
      "cell_type": "markdown",
      "metadata": {
        "id": "gLMmqO5CgUHo"
      },
      "source": [
        "# Exercise\n",
        "\n",
        "1. Write a program that removes the repeated items from a list and leaves only the unique values in the initial order.\n",
        "\n",
        "  Գրել ծրագիր, որը կվերադարձնի list-ի յուրաքանչյուր տարր առանց կրկնության։"
      ]
    },
    {
      "cell_type": "code",
      "metadata": {
        "id": "pU5e6G5CgyKm",
        "outputId": "98514652-c445-4e74-cfbf-cdc5fa2854a4",
        "colab": {
          "base_uri": "https://localhost:8080/"
        }
      },
      "source": [
        "my_list = ['a', 'b', 'c', 'c', 'd']\n",
        "my_second_list = []\n",
        "for i in my_list:\n",
        "  if i not in my_second_list:\n",
        "    print(i)\n",
        "    my_second_list.append(i)\n"
      ],
      "execution_count": null,
      "outputs": [
        {
          "output_type": "stream",
          "name": "stdout",
          "text": [
            "a\n",
            "b\n",
            "c\n",
            "d\n"
          ]
        }
      ]
    },
    {
      "cell_type": "markdown",
      "metadata": {
        "id": "UhX_mAUchg1u"
      },
      "source": [
        "2. Write a program that counts the number of occurances of each item in the list. \n",
        "\n",
        "  Գրել ծրագիր, որը կհաշվի list-ի տարրերի հաճախականությունները։"
      ]
    },
    {
      "cell_type": "code",
      "metadata": {
        "id": "5BAOgC_ahiOu",
        "outputId": "4a54e049-8c10-4931-873d-dd032291525a",
        "colab": {
          "base_uri": "https://localhost:8080/"
        }
      },
      "source": [
        "my_list = ['a', 'd', 'b', 'c', 'b', 'c', 'd', 'b']\n",
        "my_list_2 = []\n",
        "for i in my_list:\n",
        "  if i not in my_list_2:\n",
        "    print(f\"{i} = {my_list.count(i)}\")\n",
        "    my_list_2.append(i)\n",
        "    \n"
      ],
      "execution_count": null,
      "outputs": [
        {
          "output_type": "stream",
          "name": "stdout",
          "text": [
            "a = 1\n",
            "d = 2\n",
            "b = 3\n",
            "c = 2\n"
          ]
        }
      ]
    },
    {
      "cell_type": "markdown",
      "metadata": {
        "id": "EaAMEzU9iE3g"
      },
      "source": [
        "3. Write a program that generates a list of 50 random numbers between 1 and 100. Count how many items in the list are greater than 50.\n",
        "\n",
        "  Գրել ծրագիր, որը կստեղծի 50 պատահական ամբողջ թիվ 1-100 միջակայքից և կհաշվի 50-ից մեծ թվերի քանակը։"
      ]
    },
    {
      "cell_type": "code",
      "metadata": {
        "id": "gmDLwd2siE9D",
        "colab": {
          "base_uri": "https://localhost:8080/"
        },
        "outputId": "345b986d-f83c-42df-b413-f8aef0cb0cc4"
      },
      "source": [
        "import random\n",
        "count = 0\n",
        "my_list = []\n",
        "for i in range(50):\n",
        "  my_list.append(random.randint(1, 101))\n",
        "for i in my_list:\n",
        "  if i > 50:\n",
        "    count += 1\n",
        "print(count)"
      ],
      "execution_count": null,
      "outputs": [
        {
          "output_type": "stream",
          "name": "stdout",
          "text": [
            "29\n"
          ]
        }
      ]
    },
    {
      "cell_type": "markdown",
      "metadata": {
        "id": "eSrsd0CXjkxY"
      },
      "source": [
        "4. Write a program that prints out the \n",
        "* total number of elements\n",
        "* sum of all elements\n",
        "* two largest and two smallest elements \n",
        "\n",
        "of a list entered by the user.\n",
        "\n",
        "  Գրել ծրագիր, որը կտպի օգտատիրոջ կողմից մուտքագրված list-ի\n",
        "  * ընդհանուր էլեմենտների քանակը\n",
        "  * բոլոր էլեմենտների գումարը\n",
        "  * երկու ամենամեծ և ամենափոքր տարրերը"
      ]
    },
    {
      "cell_type": "code",
      "metadata": {
        "id": "Yz6e3M6xjmwu",
        "colab": {
          "base_uri": "https://localhost:8080/"
        },
        "outputId": "dce0394c-eda4-4278-9e42-6142eeaf277b"
      },
      "source": [
        "my_list = []\n",
        "temp_list = []\n",
        "while True:\n",
        "  num = int(input(\"Input numbers for list (input <0> for break) - \"))\n",
        "  if num == 0:\n",
        "    break\n",
        "  else:\n",
        "    my_list.append(num)\n",
        "print(f\"Total numbers of elements - {len(my_list)}\")\n",
        "print(f\"Sum of all elements - {sum(my_list)}\")\n",
        "for i in range (2):\n",
        "  print(f\"Largest element is - {max(my_list)}\")\n",
        "  print(f\"Smallest element is - {min(my_list)}\")\n",
        "  temp_list.append(max(my_list))\n",
        "  temp_list.append(min(my_list))\n",
        "  my_list.remove(max(my_list))\n",
        "  my_list.remove(min(my_list))\n",
        "my_list += temp_list"
      ],
      "execution_count": null,
      "outputs": [
        {
          "output_type": "stream",
          "name": "stdout",
          "text": [
            "Input numbers for list (input <0> for break) - 100\n",
            "Input numbers for list (input <0> for break) - 200\n",
            "Input numbers for list (input <0> for break) - 300\n",
            "Input numbers for list (input <0> for break) - 400\n",
            "Input numbers for list (input <0> for break) - 500\n",
            "Input numbers for list (input <0> for break) - 600\n",
            "Input numbers for list (input <0> for break) - 0\n",
            "Total numbers of elements - 6\n",
            "Sum of all elements - 2100\n",
            "Largest element is - 600\n",
            "Smallest element is - 100\n",
            "Largest element is - 500\n",
            "Smallest element is - 200\n"
          ]
        }
      ]
    }
  ]
}