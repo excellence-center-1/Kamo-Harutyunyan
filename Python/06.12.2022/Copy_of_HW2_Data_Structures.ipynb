{
  "nbformat": 4,
  "nbformat_minor": 0,
  "metadata": {
    "colab": {
      "provenance": [],
      "collapsed_sections": [
        "_wOptjGTqTFC",
        "NKP8JTNb6z5P"
      ]
    },
    "kernelspec": {
      "name": "python3",
      "display_name": "Python 3"
    }
  },
  "cells": [
    {
      "cell_type": "markdown",
      "metadata": {
        "id": "GCEodKTbRd_r"
      },
      "source": [
        "# Homework Exercises"
      ]
    },
    {
      "cell_type": "markdown",
      "metadata": {
        "id": "sM2FU5TVqX3l"
      },
      "source": [
        "## Strings"
      ]
    },
    {
      "cell_type": "markdown",
      "metadata": {
        "id": "1WbPDB3mI7MO"
      },
      "source": [
        "1. Write a program that asks the user to enter a string. The program should then print the\n",
        "following:\n",
        "\n",
        "  * The total number of characters in the string\n",
        "  * The string repeated 10 times\n",
        "  * The first character of the string \n",
        "  * The first three characters of the string\n",
        "  * The last three characters of the string\n",
        "  * The string backwards\n",
        "\n",
        "  Գրել ծրագիր, որը օգտատիրոջ մուտքագրած տեքստի (string) համար կտպի հետևյալը․\n",
        "\n",
        "  * Ընդհանուր սիմվոլների քանակը\n",
        "  * տեքստը 10 անգամ կրկնած\n",
        "  * առաջին անդամը\n",
        "  * առաջին 3 անդամները\n",
        "  * վերջին 3 անդամները\n",
        "  * տեսքտը հակառակ շրջած"
      ]
    },
    {
      "cell_type": "code",
      "metadata": {
        "id": "TXQRhmFoI6-z",
        "colab": {
          "base_uri": "https://localhost:8080/"
        },
        "outputId": "901678c3-b525-4a4c-825c-e23c4042b928"
      },
      "source": [
        "txt = str(input('Write a text - '))\n",
        "print(f'The total number of characters in the string is - {len(txt)}')\n",
        "[print(txt,end=' ') for i in range(10)]\n",
        "print()\n",
        "print(f'The first character of the string is - {txt[0]}')\n",
        "print(f'The first three characters of the string is - {txt[:3]}')\n",
        "print(f'The last three characters of the string is - {txt[-3:]}')\n",
        "print(f'The string backwards is - {txt[::-1]}')"
      ],
      "execution_count": 68,
      "outputs": [
        {
          "output_type": "stream",
          "name": "stdout",
          "text": [
            "Write a text - hello world\n",
            "The total number of characters in the string is - 11\n",
            "hello world hello world hello world hello world hello world hello world hello world hello world hello world hello world \n",
            "The first character of the string is - h\n",
            "The first three characters of the string is - hel\n",
            "The last three characters of the string is - rld\n",
            "The string backwards is - dlrow olleh\n"
          ]
        }
      ]
    },
    {
      "cell_type": "markdown",
      "metadata": {
        "id": "hfFxrQ4YI6v7"
      },
      "source": [
        "2. Using for loop iterate through the string `Hello world` and count the number of 'l's in it.\n",
        "\n",
        "  Անցնել `Hello world` տեքստի վրայով և հաշվել դրա մեջ `l` տառի հաճախականությունը՝ օգտագործելով for ցիկլ։"
      ]
    },
    {
      "cell_type": "code",
      "metadata": {
        "id": "PoLfgh08VSHZ",
        "colab": {
          "base_uri": "https://localhost:8080/"
        },
        "outputId": "ac70d34a-c185-4f74-9989-090eff0e8fd5"
      },
      "source": [
        "count = 0\n",
        "for i in 'Hello world':\n",
        "  if i == 'l':\n",
        "    count += 1\n",
        "print(count)"
      ],
      "execution_count": 65,
      "outputs": [
        {
          "output_type": "stream",
          "name": "stdout",
          "text": [
            "3\n"
          ]
        }
      ]
    },
    {
      "cell_type": "markdown",
      "metadata": {
        "id": "Qk-vQlp1VSPk"
      },
      "source": [
        "3. Write a program that asks the user for a string and creates a new string that doubles each character of the original string. For instance, if the user enters `Hello`, the output should be `HHeelllloo`.\n",
        "\n",
        "  Գրել ծրագիր, որը վերցնում է օգտատիրոջ կողմից մուտքագրված տեքստը և պատրաստում է նոր տեքստ, որի մեջ գրված են մուտքագրված բառի տառերը կրկնապատկված։ Օրինակ՝ `Hello` բառի համար կվերադարձնի `HHeelllloo`։"
      ]
    },
    {
      "cell_type": "code",
      "metadata": {
        "id": "Egenwe06VSWV",
        "colab": {
          "base_uri": "https://localhost:8080/"
        },
        "outputId": "70cec4a7-b578-4ea4-c00b-bf8817f5fb65"
      },
      "source": [
        "txt = ''\n",
        "for i in str(input('Input a txt - ')):\n",
        "  txt += 2 * i\n",
        "print(txt)"
      ],
      "execution_count": 64,
      "outputs": [
        {
          "output_type": "stream",
          "name": "stdout",
          "text": [
            "Input a txt - abcd\n",
            "aabbccdd\n"
          ]
        }
      ]
    },
    {
      "cell_type": "markdown",
      "metadata": {
        "id": "ZCBZc1U1VSb7"
      },
      "source": [
        "4. Write a program that asks a user for their name and prints it in the following way:\n",
        "\n",
        "  `A Ar Arm Arme Armen`.\n",
        "\n",
        "  Hint: use a for loop.\n",
        "\n",
        "  Գրել ծրագիր, որը վերցնում է օգտատիրոջ անունը և տպում է այն հետևյալ կերպ․\n",
        "\n",
        "  `A Ar Arm Arme Armen`\n",
        "\n",
        "  Հուշում․ օգտագործել for ցիկլ։"
      ]
    },
    {
      "cell_type": "code",
      "metadata": {
        "id": "vK_7hQuuVSha",
        "colab": {
          "base_uri": "https://localhost:8080/"
        },
        "outputId": "d10e8481-eaa3-4ee0-94eb-87dcb30964b0"
      },
      "source": [
        "name = str(input('Inpute your name - '))\n",
        "for i in range(len(name) + 1):\n",
        "  print(name[:i], end=' ')"
      ],
      "execution_count": 63,
      "outputs": [
        {
          "output_type": "stream",
          "name": "stdout",
          "text": [
            "Inpute your name - KAmo\n",
            " K KA KAm KAmo "
          ]
        }
      ]
    },
    {
      "cell_type": "markdown",
      "metadata": {
        "id": "RsjwjrDfVtAR"
      },
      "source": [
        "5. Write a program that removes all capitalization and common punctuation (`,.;:-?!()\\'\"`) from a\n",
        "string `s`.\n",
        "\n",
        "  Գրել ծրագիր, որը դարձնում է `s` տեքստի մեծատառերը՝ փոքրատառ և ջնջում է տեքստում առկա հետևյալ կետադրական նշանները՝ `,.;:-?!()\\'\"`։"
      ]
    },
    {
      "cell_type": "code",
      "metadata": {
        "id": "WmpM4SyDVtF4",
        "colab": {
          "base_uri": "https://localhost:8080/"
        },
        "outputId": "b7ba52a1-4fed-4b1c-e666-c83b698df111"
      },
      "source": [
        "txt = str(input('Write a text - ')).lower()\n",
        "for i in ',.;:-?!\\'\"()\\/':\n",
        "  if i in txt:\n",
        "    txt = txt.replace(i, \"\")\n",
        "print(txt)"
      ],
      "execution_count": 58,
      "outputs": [
        {
          "output_type": "stream",
          "name": "stdout",
          "text": [
            "Write a text - bc,.;:-?!()\\'\"aca\n",
            "bcaca\n"
          ]
        }
      ]
    },
    {
      "cell_type": "markdown",
      "metadata": {
        "id": "KgF5uPuhVtLl"
      },
      "source": [
        "6. Write a program that, given a string that contains a decimal number, prints out the\n",
        "decimal part of the number. For instance, if given `3.14159`, the program should print out `.14159`.\n",
        "\n",
        "  Գրել ծրագիր, որը վերցնում է տասնորդական թիվ՝ որպես տեքստ և տպում է դրա տասնորդական կարգը, այսինքն՝ օրինակ  `3.14159`-ի համար ծրագիրը պետք է տպի `.14159`։"
      ]
    },
    {
      "cell_type": "code",
      "metadata": {
        "id": "0gH3y-Q2VSnR",
        "colab": {
          "base_uri": "https://localhost:8080/"
        },
        "outputId": "4a786a06-7623-4195-f474-743c745cee89"
      },
      "source": [
        "number = str(float(input()))\n",
        "print(number[number.find(\".\"):])"
      ],
      "execution_count": 52,
      "outputs": [
        {
          "output_type": "stream",
          "name": "stdout",
          "text": [
            "4.15470230\n",
            ".1547023\n"
          ]
        }
      ]
    },
    {
      "cell_type": "markdown",
      "metadata": {
        "id": "3HEZ6dl0ekny"
      },
      "source": [
        "7. A simple way to estimate the number of words in a string is to count the number of spaces\n",
        "in the string. Write a program that asks the user for a string and returns an estimate of how\n",
        "many words are in the string.\n",
        "\n",
        "  Տեքստի մեջ բառերի քանակը մոտավոր հաշվելու պարզագույն եղանակը տեքստում բացատների քանակը հաշվելն է։ Գրել ծրագիր, որը կտպի բացատների քանակը՝ օգտատիրոջ կողմից մուտքագրված տեքստում։ "
      ]
    },
    {
      "cell_type": "code",
      "metadata": {
        "id": "AgRYItgXek22",
        "colab": {
          "base_uri": "https://localhost:8080/"
        },
        "outputId": "69f4ee06-5c26-4640-df76-3756eb5c772d"
      },
      "source": [
        "print(str(input()).count(\" \") + 1)"
      ],
      "execution_count": 43,
      "outputs": [
        {
          "output_type": "stream",
          "name": "stdout",
          "text": [
            "abc abc abc\n",
            "3\n"
          ]
        }
      ]
    },
    {
      "cell_type": "markdown",
      "metadata": {
        "id": "_OkxDUHEI6kS"
      },
      "source": [
        "8. Write a program that asks the user to enter a string `s` and then converts `s` to lowercase, removes\n",
        "all the `periods` (.) and `commas` (,) from `s`, and prints the resulting string.\n",
        "\n",
        "  Գրել ծրագիր, որը օգտատիրոջից վերցնում է տեքստ, դարձնում այն փոքրատառ, վերացնում վերջակետերն (.) ու ստորակետերը (,) և տպում ստացված տեքստը։"
      ]
    },
    {
      "cell_type": "code",
      "metadata": {
        "id": "cTN0Ve60jEqT",
        "colab": {
          "base_uri": "https://localhost:8080/"
        },
        "outputId": "fb6af04a-b022-4bae-d1cc-82942f063359"
      },
      "source": [
        "txt = str(input()).lower().replace('.','')\n",
        "txt = txt.replace(',','')\n",
        "print(txt)"
      ],
      "execution_count": 54,
      "outputs": [
        {
          "output_type": "stream",
          "name": "stdout",
          "text": [
            "ABC.,abc,.\n",
            "abcabc\n"
          ]
        }
      ]
    },
    {
      "cell_type": "markdown",
      "metadata": {
        "id": "xlBkRh2dVHWo"
      },
      "source": [
        "9. Write a program that asks the user to enter a word and determines whether the word is a\n",
        "`palindrome` or not. A palindrome is a word that reads the same backwards as forwards.\n",
        "\n",
        "  Գրել ծրագիր, որը օտատիրոջից վերցնում է մեկ բառ և ստուգում է արդյոք այդ բառը պալինդրոմ է, թե՝ ոչ։ Պալինդրոմ են անվանում այն բառերին, որոնք սկբից և վերջից կարդալիս նույնն են։ Օրինակ՝ ապա, Աննա, ահա, աբբգգբբա։ Բառերը կարող են իմաստ չունենալ։  \n",
        "\n"
      ]
    },
    {
      "cell_type": "code",
      "metadata": {
        "id": "TwvYtVrAVHbQ",
        "colab": {
          "base_uri": "https://localhost:8080/"
        },
        "outputId": "642d7ead-33be-4221-d752-db830c910686"
      },
      "source": [
        "txt = str(input())\n",
        "print(txt  == txt[::-1])"
      ],
      "execution_count": 34,
      "outputs": [
        {
          "output_type": "stream",
          "name": "stdout",
          "text": [
            "anna\n",
            "True\n"
          ]
        }
      ]
    },
    {
      "cell_type": "markdown",
      "metadata": {
        "id": "32hdDmh3VHfY"
      },
      "source": [
        "10. Write a program that asks the user for their name and then generates the email written below for that person.\n",
        "\n",
        "  Գրել ծրագիր, որը հարցնում է օգտատիրոջ անուն, ազգանունը և տպում այդ օգտատիրոջ համար հետևյալ նամակը։ \n",
        "\n",
        "  \"Dear **Name Surname**,\n",
        "  \n",
        "  I am pleased to offer you our new special product. **Name**, you may not get such an offer every day, so I would like to ask you to call\n",
        "now. We cannot offer such a low\n",
        "rate for long, **Name**, so please call as soon as possible.\" "
      ]
    },
    {
      "cell_type": "code",
      "metadata": {
        "id": "8OmuGQjqVHjn",
        "colab": {
          "base_uri": "https://localhost:8080/"
        },
        "outputId": "e367dfec-4624-46b7-ea39-ee2c5d18ed55"
      },
      "source": [
        "name = str(input('Input your name - '))\n",
        "surname = str(input('Input your surname - '))\n",
        "print(f'\"Dear {name} {surname},')"
      ],
      "execution_count": 32,
      "outputs": [
        {
          "output_type": "stream",
          "name": "stdout",
          "text": [
            "Input your name - Kamo\n",
            "Input your surname - Harutyunyan\n",
            "\"Dear Kamo Harutyunyan,\n"
          ]
        }
      ]
    },
    {
      "cell_type": "markdown",
      "metadata": {
        "id": "_wOptjGTqTFC"
      },
      "source": [
        "## Lists"
      ]
    },
    {
      "cell_type": "markdown",
      "metadata": {
        "id": "2cUNMzReV_fd"
      },
      "source": [
        "11. Write a program that removes the repeated items from a list and leaves only the unique values in the initial order.\n",
        "\n",
        "  Գրել ծրագիր, որը կվերադարձնի list-ի յուրաքանչյուր տարր առանց կրկնության։"
      ]
    },
    {
      "cell_type": "code",
      "metadata": {
        "id": "ylT4vZLWV_pO",
        "outputId": "52ce71d9-8a1d-4857-b8f4-8826483bb7f6",
        "colab": {
          "base_uri": "https://localhost:8080/"
        }
      },
      "source": [
        "list1 = [\"a\", \"b\", \"c\", \"a\", \"b\", \"D\"]\n",
        "temp = \"\"\n",
        "for i in list1:\n",
        "  if i not in temp:\n",
        "    print(i, end=\", \")\n",
        "    temp += i"
      ],
      "execution_count": null,
      "outputs": [
        {
          "output_type": "stream",
          "name": "stdout",
          "text": [
            "a, b, c, D, "
          ]
        }
      ]
    },
    {
      "cell_type": "markdown",
      "metadata": {
        "id": "CIc1nNl8V_vm"
      },
      "source": [
        "12. Write a program that counts the number of occurances of each item in the list. \n",
        "\n",
        "  Գրել ծրագիր, որը կհաշվի list-ի տարրերի հաճախականությունները։"
      ]
    },
    {
      "cell_type": "code",
      "metadata": {
        "id": "nn4LVRfSV_0t",
        "outputId": "8488f0ac-da1e-46c3-8414-693aae84ee13",
        "colab": {
          "base_uri": "https://localhost:8080/"
        }
      },
      "source": [
        "list1 = [\"a\", \"b\", \"c\", \"a\", \"b\", \"D\"]\n",
        "temp = \"\"\n",
        "for i in list1:\n",
        "  if i not in temp:\n",
        "    print(f\"{i} - {list1.count(i)}\")\n",
        "    temp += i"
      ],
      "execution_count": null,
      "outputs": [
        {
          "output_type": "stream",
          "name": "stdout",
          "text": [
            "a - 2\n",
            "b - 2\n",
            "c - 1\n",
            "D - 1\n"
          ]
        }
      ]
    },
    {
      "cell_type": "markdown",
      "metadata": {
        "id": "aO1ojeTnWEpt"
      },
      "source": [
        "13. Write a program that generates a list of 50 random numbers between 1 and 100. Count how many items in the list are greater than 50.\n",
        "\n",
        "  Գրել ծրագիր, որը կստեղծի 50 պատահական ամբողջ թիվ 1-100 միջակայքից և կհաշվի 50-ից մեծ թվերի քանակը։"
      ]
    },
    {
      "cell_type": "code",
      "metadata": {
        "id": "RziUX7kRWEwq",
        "outputId": "7e1d40cb-6020-4ad5-9a71-99c1d565d790",
        "colab": {
          "base_uri": "https://localhost:8080/"
        }
      },
      "source": [
        "import random\n",
        "count = 0\n",
        "list1 = [random.randint(1,100) for i in range (50)]\n",
        "for i in list1:\n",
        "  if i > 50:\n",
        "    count += 1\n",
        "print(count)"
      ],
      "execution_count": null,
      "outputs": [
        {
          "output_type": "stream",
          "name": "stdout",
          "text": [
            "23\n"
          ]
        }
      ]
    },
    {
      "cell_type": "markdown",
      "metadata": {
        "id": "YxseNPKzWE1L"
      },
      "source": [
        "14. Write a program that prints out the \n",
        "* total number of elements\n",
        "* sum of all elements\n",
        "* two largest and two smallest elements \n",
        "\n",
        "of a list entered by the user.\n",
        "\n",
        "  Գրել ծրագիր, որը կտպի օգտատիրոջ կողմից մուտքագրված list-ի\n",
        "  * ընդհանուր էլեմենտների քանակը\n",
        "  * բոլոր էլեմենտների գումարը\n",
        "  * երկու ամենամեծ և ամենափոքր տարրերը"
      ]
    },
    {
      "cell_type": "code",
      "metadata": {
        "id": "wzI_x4u_WE_w",
        "outputId": "984c28ab-b071-453c-81a9-852e00028571",
        "colab": {
          "base_uri": "https://localhost:8080/"
        }
      },
      "source": [
        "my_list = []\n",
        "while True:\n",
        "  num = int(input(\"Input numbers for list (input <0> for break) - \"))\n",
        "  if num == 0:\n",
        "    break\n",
        "  else:\n",
        "    my_list.append(num)\n",
        "print(f\"Total numbers of elements - {len(my_list)}\")\n",
        "print(f\"Sum of all elements - {sum(my_list)}\")\n",
        "my_list.sort()\n",
        "print(f\"Largest element is - {my_list[-1]}\")\n",
        "print(f\"Smallest element is - {my_list[0]}\")\n",
        "print(f\"Second largest element is - {my_list[-2]}\")\n",
        "print(f\"Second smallest element is - {my_list[1]}\")"
      ],
      "execution_count": null,
      "outputs": [
        {
          "output_type": "stream",
          "name": "stdout",
          "text": [
            "Input numbers for list (input <0> for break) - 10\n",
            "Input numbers for list (input <0> for break) - 11\n",
            "Input numbers for list (input <0> for break) - 12\n",
            "Input numbers for list (input <0> for break) - 13\n",
            "Input numbers for list (input <0> for break) - 0\n",
            "Total numbers of elements - 4\n",
            "Sum of all elements - 46\n",
            "Largest element is - 13\n",
            "Smallest element is - 10\n",
            "Second largest element is - 12\n",
            "Second smallest element is - 11\n"
          ]
        }
      ]
    },
    {
      "cell_type": "markdown",
      "metadata": {
        "id": "YUaFYy8OIHWp"
      },
      "source": [
        "15. Write a program that generates a list of 20 random numbers between 1 and 100.\n",
        "  * Print the list.\n",
        "  * Print the average of the elements in the list.\n",
        "  * Print the largest and smallest values in the list.\n",
        "  * Print the second largest and second smallest entries in the list\n",
        "  * Print how many even numbers are in the list.\n",
        "\n",
        "  Գրել ծրագիր, որը կստեղծի 1-100 միջակայքից 20 պատահական ամբողջ թվեր պարունակող list և կտպի\n",
        "  * այդ list-ը \n",
        "  * list-ի թվաբանական միջինը\n",
        "  * մեծագույն և փոքրագուն թվերը\n",
        "  * երկրորդ ամենամեծ և ամենափոքր թվերը\n",
        "  * զույգ թվերի քանակը"
      ]
    },
    {
      "cell_type": "code",
      "metadata": {
        "id": "xrSVUy31IHeV",
        "colab": {
          "base_uri": "https://localhost:8080/"
        },
        "outputId": "c7682cd1-c5bc-4739-df93-2a1fd0041c8c"
      },
      "source": [
        "import random\n",
        "my_list = [random.randint(1, 100) for i in range(20)]\n",
        "print('My list is - [', end='')\n",
        "[print(f\"{my_list[i]}; \", end=\"\") for i in range(len(my_list) - 1)]\n",
        "print(f\"{my_list[-1]}]\")\n",
        "my_list.sort()\n",
        "print(f\"Average of the elements in the list - {sum(my_list) / len(my_list)}\")\n",
        "print(f\"Largest value in the list is - {my_list[-1]}\")\n",
        "print(f\"Smallest value in the list is - {my_list[0]}\")\n",
        "print(f\"Second largest value in the list is - {my_list[-2]}\")\n",
        "print(f\"Second smallest value in the list is - {my_list[1]}\")\n",
        "count = 0\n",
        "for i in my_list:\n",
        "  if i % 2 == 0:\n",
        "    count += 1\n",
        "print(f\"In list we have {count} even numbers:)\")"
      ],
      "execution_count": 21,
      "outputs": [
        {
          "output_type": "stream",
          "name": "stdout",
          "text": [
            "My list is - [55; 68; 85; 80; 13; 88; 74; 34; 35; 12; 10; 91; 68; 47; 85; 74; 91; 60; 3; 53]\n",
            "Average of the elements in the list - 56.3\n",
            "Largest value in the list is - 91\n",
            "Smallest value in the list is - 3\n",
            "Second largest value in the list is - 91\n",
            "Second smallest value in the list is - 10\n",
            "In list we have 10 even numbers:)\n"
          ]
        }
      ]
    },
    {
      "cell_type": "markdown",
      "metadata": {
        "id": "FgcH-562IHlB"
      },
      "source": [
        "**16**. Ask the user to enter a list containing numbers between 1 and 12. Then replace all of the\n",
        "entries in the list that are greater than 8 with 8 And prints the resulting list.\n",
        "\n",
        "  Գրել ծրագիր, որը վերցնում է օգտատիրոջ կողմից մուտքագրված 1-ից 12 ամբողջ թվեր, փոխարինում 8-ից մեծ թվերը 8-ով և տպում է ստացված list-ը։"
      ]
    },
    {
      "cell_type": "code",
      "metadata": {
        "id": "KMqAiNsGIHsU",
        "colab": {
          "base_uri": "https://localhost:8080/"
        },
        "outputId": "e439c428-ee8d-4a9f-e45c-b0f277eb29f8"
      },
      "source": [
        "my_list = []\n",
        "while True:\n",
        "  number = int(input('Input number between 1 and 12:Input <0> for stop - '))\n",
        "  if number == 0:\n",
        "    break\n",
        "  elif 13 > number > 0:\n",
        "    if number > 8:\n",
        "      my_list.append(8)\n",
        "    else:\n",
        "      my_list.append(number)\n",
        "  elif number > 12:\n",
        "    print('Eror:Your number is very large:')\n",
        "  else:\n",
        "    print('Eror:Your number is very small:')\n",
        "print('Your result is - [', end='')\n",
        "[print(f\"{my_list[i]}; \", end=\"\") for i in range(len(my_list) - 1)]\n",
        "print(f\"{my_list[-1]}]\")"
      ],
      "execution_count": 23,
      "outputs": [
        {
          "output_type": "stream",
          "name": "stdout",
          "text": [
            "Input number between 1 and 12:Input <0> for stop - 10\n",
            "Input number between 1 and 12:Input <0> for stop - 11\n",
            "Input number between 1 and 12:Input <0> for stop - 7\n",
            "Input number between 1 and 12:Input <0> for stop - 0\n",
            "Your result is - [8; 8; 7]\n"
          ]
        }
      ]
    },
    {
      "cell_type": "markdown",
      "metadata": {
        "id": "IicCIcQvIHxY"
      },
      "source": [
        "17. Ask the user to enter a list of strings. Create a new list that consists of those strings with their\n",
        "first characters removed.\n",
        "\n",
        "  Օգտատիրոջ կողմից պետք է մուտքագրվի string-ների list, այնուհետև պահանջվում է ստեղծել նոր list, որտեղ կլինեն նույն string-ները, բայց առանց առաջին սիմվոլի։ Օրինակ՝ \n",
        "  `['!dog', '+cat']` $\\to$ `['dog', 'cat']`"
      ]
    },
    {
      "cell_type": "code",
      "metadata": {
        "id": "gW2JdxzWIH4g",
        "colab": {
          "base_uri": "https://localhost:8080/"
        },
        "outputId": "ab409f39-88ed-4b36-935c-7e65ea3886ff"
      },
      "source": [
        "my_list = []\n",
        "while True:\n",
        "  txt = str(input('Input strings:Input <0> for stop - '))\n",
        "  if txt == '0':\n",
        "    break\n",
        "  my_list.append(txt[1:])\n",
        "print('Your result is - [', end='')\n",
        "[print(f\"{my_list[i]}; \", end=\"\") for i in range(len(my_list) - 1)]\n",
        "print(f\"{my_list[-1]}]\")"
      ],
      "execution_count": 24,
      "outputs": [
        {
          "output_type": "stream",
          "name": "stdout",
          "text": [
            "Input strings:Input <0> for stop - 100\n",
            "Input strings:Input <0> for stop - hii\n",
            "Input strings:Input <0> for stop - hihi\n",
            "Input strings:Input <0> for stop - 0\n",
            "Your result is - [00; ii; ihi]\n"
          ]
        }
      ]
    },
    {
      "cell_type": "markdown",
      "metadata": {
        "id": "MEC70di4IH_O"
      },
      "source": [
        "18. Write a program that generates 100 random integers that are either 0 or 1. Then find the largest number of zeros in a row. For instance, the longest run of\n",
        "zeros in `[1,0,1,1,0,0,0,0,1,0,0]` is 4. \n",
        "\n",
        "  Գրել ծրագիր, որը կստեղծի 100 պատահական 0-ներ և 1-եր, ապա կհաշվի թե ամենաշատը քանի իրար հաջորդող 0-ներ կան տվյալ list-ի մեջ։ Օրինակ՝ այս դեպքում `[1,0,1,1,0,0,0,0,1,0,0]` այդ թիվը կլինի 4-ը.  "
      ]
    },
    {
      "cell_type": "code",
      "metadata": {
        "id": "wU6-9X9zIIFe",
        "colab": {
          "base_uri": "https://localhost:8080/"
        },
        "outputId": "07d8282f-fe6c-44b0-ba87-f845ab4307c0"
      },
      "source": [
        "my_list = [random.randint(0, 1) for i in range(100)]\n",
        "print('List is - [', end='')\n",
        "[print(f\"{my_list[i]}; \", end=\"\") for i in range(len(my_list) - 1)]\n",
        "print(f\"{my_list[-1]}]\")\n",
        "max = 0\n",
        "counter = 0\n",
        "for i in my_list:\n",
        "  if i == 0:\n",
        "    counter += 1\n",
        "  else:\n",
        "    counter = 0\n",
        "  if counter > max:\n",
        "    max = counter\n",
        "print(f'Largest number of zeros in a row is - {max}')"
      ],
      "execution_count": 26,
      "outputs": [
        {
          "output_type": "stream",
          "name": "stdout",
          "text": [
            "List is - [1; 0; 0; 0; 0; 0; 1; 0; 0; 0; 0; 0; 1; 0; 1; 0; 1; 0; 1; 1; 1; 1; 0; 1; 0; 0; 0; 1; 1; 0; 0; 1; 0; 1; 1; 0; 0; 0; 1; 1; 0; 1; 0; 1; 0; 1; 0; 0; 0; 0; 0; 0; 0; 0; 1; 0; 0; 1; 1; 1; 0; 0; 1; 1; 0; 1; 1; 1; 1; 0; 0; 0; 1; 0; 0; 1; 0; 1; 1; 0; 1; 0; 1; 0; 0; 1; 0; 1; 0; 0; 1; 0; 0; 1; 1; 0; 0; 1; 0; 1]\n",
            "Largest number of zeros in a row is - 8\n"
          ]
        }
      ]
    },
    {
      "cell_type": "markdown",
      "metadata": {
        "id": "DX4939I0Kdqt"
      },
      "source": [
        "19. Create the following lists using list comprehension.\n",
        "\n",
        "  * A list consisting of the even integers 0 through 49\n",
        "  * A list containing the squares of the integers 1 through 50 that are divisible by 3.\n",
        "\n",
        "  Ստեղծել հետևյալ list-երը օգտագործելով list comprehension մեթոդը։\n",
        "\n",
        "  * 0-ից 49 զույգ ամբողջ թվերը\n",
        "  * 1-ից 50 ամողջ թվերից 3-ի բաժանվողների քառակուսիները"
      ]
    },
    {
      "cell_type": "code",
      "metadata": {
        "id": "bAKqzpv6KfDJ",
        "colab": {
          "base_uri": "https://localhost:8080/"
        },
        "outputId": "3f7eca8c-5514-4a21-9258-989247103a8a"
      },
      "source": [
        "first_list = [i for i in range(2, 49, 2)]\n",
        "second_list = [i**2 for i in range(1, 51) if i % 3 == 0]\n",
        "print('First list is - [', end='')\n",
        "[print(f\"{first_list[i]}; \", end=\"\") for i in range(len(first_list) - 1)]\n",
        "print(f\"{first_list[-1]}]\")\n",
        "print('Second list is - [', end='')\n",
        "[print(f\"{second_list[i]}; \", end=\"\") for i in range(len(second_list) - 1)]\n",
        "print(f\"{second_list[-1]}]\")"
      ],
      "execution_count": 29,
      "outputs": [
        {
          "output_type": "stream",
          "name": "stdout",
          "text": [
            "First list is - [2; 4; 6; 8; 10; 12; 14; 16; 18; 20; 22; 24; 26; 28; 30; 32; 34; 36; 38; 40; 42; 44; 46; 48]\n",
            "Second list is - [9; 36; 81; 144; 225; 324; 441; 576; 729; 900; 1089; 1296; 1521; 1764; 2025; 2304]\n"
          ]
        }
      ]
    },
    {
      "cell_type": "markdown",
      "metadata": {
        "id": "NKP8JTNb6z5P"
      },
      "source": [
        "# Dictionaries, Tuples, Sets"
      ]
    },
    {
      "cell_type": "markdown",
      "metadata": {
        "id": "ms2qt7pe6wKD"
      },
      "source": [
        "20. Write a program that uses a dictionary that contains ten user names and passwords. The\n",
        "program should ask the user to enter their username and password. If the username is not in\n",
        "the dictionary, the program should indicate that the person is not a valid user of the system. If\n",
        "the username is in the dictionary, but the user does not enter the right password, the program\n",
        "should say that the password is invalid. If the password is correct, then the program should\n",
        "tell the user that they are now logged in to the system.\n",
        "\n",
        "  Գրել ծրագիր, որը օգտագործում է dictionary, որպեսզի պահի 10 օգտատերերի հաշվիների անունները և գաղտնաբառերը։ Ծրագիրը օգտատիրոջից պահանջում է մուտքագրել անունը և գաղտնաբառը, որոնց չհամընկնելու դեպքում ծրագիրը պետք է տեղեկացնի դրա մասին նշելով թե որ ինչը չի համընկել․ անունը թե գաղտնաբառը։ Եթե գաղտնաբառը ճիշտ է, ապա ծրագիրը պետք է հայտնի, որ օգտատերը արդեն մուտք է գործել համակարգ։"
      ]
    },
    {
      "cell_type": "code",
      "metadata": {
        "id": "HpvGvAxs6yzr"
      },
      "source": [],
      "execution_count": null,
      "outputs": []
    },
    {
      "cell_type": "markdown",
      "metadata": {
        "id": "otpqwn7s67XR"
      },
      "source": [
        "21. Repeatedly ask the user to enter a team name and the how many games the team won and\n",
        "how many they lost. Store this information in a dictionary where the keys are the team names\n",
        "and the values are tuples of the form (wins, losses). Using the dictionary created above,\n",
        "\n",
        "  1. allow the user to enter a team name and print out\n",
        "the team's winning percentage.\n",
        "  2. create a list whose entries are the number of wins of each team.\n",
        "  3. print the name of the team with the most number of losses.\n",
        "\n",
        "  Գրել ծրագիր, որը կվերցնի օգտատիրոջից ինչ-որ թիմի անուն և տեղեկատվություն այդ թիմի հաղթանակների և պարտությունների քանակների մասին։ Տվյալները պետք է պահել dictionary-ի մեջ, որտեղ բանալիները կլինեն մուտքագրված թիմերի անունները, իսկ արժեքները կլինեն (հաղթանակներ, պարտություններ) ֆորմատով tuple: Օգտագործելով վերոնշյալ dictionary-ն\n",
        "  \n",
        "  1. տպել օգտատիրոջ կողմից նշված թիմի հաղթանակների տոկոսը։ \n",
        "  2. ստեղծել list, որի տարրերը կլինեն յուրաքանչյուր թիմի հաղթանակների քանակները։\n",
        "  3. տպել ամենաշատը պարտված թիմի անունը։"
      ]
    },
    {
      "cell_type": "code",
      "metadata": {
        "id": "hBhvQFQM67h_"
      },
      "source": [],
      "execution_count": null,
      "outputs": []
    },
    {
      "cell_type": "markdown",
      "metadata": {
        "id": "fPmRTK6w67nC"
      },
      "source": [
        "22. Repeatedly ask the user to enter game scores in a format like `team1 score1 - team2 score2`. Store\n",
        "this information in a dictionary where the keys are the team names and the values are tuples of\n",
        "the form (wins, losses).\n",
        "\n",
        "  Գրել ծրագիր, որը օգտատիրոջից վերցնում է խաղերի հաշվի տեղեկատվություն հետևյալ ֆորմատով՝ `team1 score1 - team2 score2` և ստեղծում է dictionary-ի, որտեղ բանալիները կլինեն թիմերի անունները, իսկ արժեքները կլինեն tuple-ներ՝ հաղթանակների և պարտությունների քանակներից կազմված։"
      ]
    },
    {
      "cell_type": "code",
      "metadata": {
        "id": "vfNjpUUk67sA",
        "colab": {
          "base_uri": "https://localhost:8080/",
          "height": 84
        },
        "outputId": "edad7cf2-131c-484b-ea94-76060ba34abf"
      },
      "source": [
        "# Pyunik 3 - Mika 2\n",
        "# Pyunik 1 - Ararat 2"
      ],
      "execution_count": null,
      "outputs": [
        {
          "output_type": "stream",
          "text": [
            "Pyunik 3 - Mika 2\n",
            "Pyunik 1 - Ararat 2\n",
            "\n",
            "{'Pyunik': (1, 1), 'Mika': (0, 1), 'Ararat': (1, 0)}\n"
          ],
          "name": "stdout"
        }
      ]
    },
    {
      "cell_type": "markdown",
      "metadata": {
        "id": "4Wh2rYRD67ww"
      },
      "source": [
        "23.  Create a $5 \\times 5$ list of numbers. Then write a program that creates a dictionary whose keys are\n",
        "the numbers and whose values are the how many times the number occurs. Then print the three most common numbers.\n",
        "\n",
        "  Ստեղծել $5 \\times 5$ չափսի մատրից (list-երի list), այնուհետև ստեղծել dictionary, որտեղ բանալիները կլինեն մատրիցի թվերը, իսկ արժեքները կլինեն այդ թվերի հաճախականությունները (քանի անգամ են հանդիպում) այդ մատրիցի մեջ։ Տպել 3 ամենաշատ հանդիպող թվերը։\n"
      ]
    },
    {
      "cell_type": "code",
      "metadata": {
        "id": "OhCE05K4671x"
      },
      "source": [],
      "execution_count": null,
      "outputs": []
    },
    {
      "cell_type": "markdown",
      "metadata": {
        "id": "7zQ_28J07RVg"
      },
      "source": [
        "24. Write a program that reads through the given list of dictionaries and prints the following:\n",
        "  1. All the users whose phone number ends in an 8\n",
        "  2. All the users that don't have an email address listed\n",
        "\n",
        "  Գրել ծրագիր, որը կմշակի տրված list-ը և կտպի հետևյալը․\n",
        "  1. Բոլոր օգտատերերի անունները՝ ում հեռախոսի համարը վերջանում է 8-ով\n",
        "  2. Բոլոր օգտատերերի անունները՝ ովքեր չունեն կցված email հասցե։\n",
        "\n"
      ]
    },
    {
      "cell_type": "code",
      "metadata": {
        "id": "4CPu6-m87UQj"
      },
      "source": [
        "d = [{'name':'Todd', 'phone':'555-1414', 'email':'todd@mail.net'},\n",
        "    {'name':'Helga', 'phone':'555-1618', 'email':'helga@mail.net'},\n",
        "    {'name':'Princess', 'phone':'555-3141', 'email':''},\n",
        "    {'name':'LJ', 'phone':'555-2718', 'email':'lj@mail.net'}]\n",
        "\n",
        "\n"
      ],
      "execution_count": null,
      "outputs": []
    },
    {
      "cell_type": "markdown",
      "metadata": {
        "id": "6WjRITsC7V95"
      },
      "source": [
        "25. Write a program that prints the unique even numbers from a given tuple by the user with the help of set properties.\n",
        "\n",
        "  Գրել ծրագիր, որը կտպի օգտատիրոջ կողմից մուտքագրված tuple-ի զույգ թվերը (առանց կրկնության) oգտվելով set-երի հատկությունից։ "
      ]
    },
    {
      "cell_type": "code",
      "metadata": {
        "id": "vAxnEan27ZjH"
      },
      "source": [],
      "execution_count": null,
      "outputs": []
    }
  ]
}