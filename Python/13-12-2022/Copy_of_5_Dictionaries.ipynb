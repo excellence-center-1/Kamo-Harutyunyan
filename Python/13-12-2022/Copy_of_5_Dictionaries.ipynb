{
  "nbformat": 4,
  "nbformat_minor": 0,
  "metadata": {
    "colab": {
      "provenance": [],
      "collapsed_sections": [
        "ZcLzrs4pD-0t",
        "GOgU8LwxI8fZ"
      ]
    },
    "kernelspec": {
      "name": "python3",
      "display_name": "Python 3"
    }
  },
  "cells": [
    {
      "cell_type": "markdown",
      "metadata": {
        "id": "aR6XoUfaiWaW"
      },
      "source": [
        "A **dictionary** is a more general version of a **list**. Here is a list that contains the number of days in\n",
        "the months of the year:"
      ]
    },
    {
      "cell_type": "code",
      "metadata": {
        "id": "JsbUqQnIiVZ3"
      },
      "source": [
        "days = [31, 28, 31, 30, 31, 30, 31, 31, 30, 31, 30, 31]"
      ],
      "execution_count": null,
      "outputs": []
    },
    {
      "cell_type": "markdown",
      "metadata": {
        "id": "pLyb5U8uivR1"
      },
      "source": [
        "We can access the days of any month using indexing"
      ]
    },
    {
      "cell_type": "code",
      "metadata": {
        "id": "WXijiZ6Ninx7",
        "colab": {
          "base_uri": "https://localhost:8080/"
        },
        "outputId": "f3bc0cf3-c685-42fc-94bd-42c142006aee"
      },
      "source": [
        "print('January', days[0])\n",
        "print('December', days[-1])"
      ],
      "execution_count": null,
      "outputs": [
        {
          "output_type": "stream",
          "name": "stdout",
          "text": [
            "January 31\n",
            "December 31\n"
          ]
        }
      ]
    },
    {
      "cell_type": "markdown",
      "metadata": {
        "id": "I8K29WJzjHLe"
      },
      "source": [
        "Here is a **dictionary** of the days in the months of the year:"
      ]
    },
    {
      "cell_type": "code",
      "metadata": {
        "id": "B_oySMpnjCS5"
      },
      "source": [
        "days_dict = {'January':31, 'February':28, 'March':31,\n",
        "        'April':30, 'May':31, 'June':30,\n",
        "        'July':31, 'August':31, 'September':30,\n",
        "        'October':31, 'November':30, 'December':31}"
      ],
      "execution_count": null,
      "outputs": []
    },
    {
      "cell_type": "markdown",
      "metadata": {
        "id": "WIs8GeYNjQku"
      },
      "source": [
        "In this case, to get the number of days in January we can do"
      ]
    },
    {
      "cell_type": "code",
      "metadata": {
        "id": "i6sDnnWBjiNt",
        "colab": {
          "base_uri": "https://localhost:8080/"
        },
        "outputId": "c622abbb-13f8-4fc6-fbac-a422c9ceda48"
      },
      "source": [
        "days_dict['June']"
      ],
      "execution_count": null,
      "outputs": [
        {
          "output_type": "execute_result",
          "data": {
            "text/plain": [
              "30"
            ]
          },
          "metadata": {},
          "execution_count": 6
        }
      ]
    },
    {
      "cell_type": "code",
      "source": [
        "a = {'a': 1, 'a': {'b': 3}}"
      ],
      "metadata": {
        "id": "m1kyx-pDs782"
      },
      "execution_count": null,
      "outputs": []
    },
    {
      "cell_type": "code",
      "source": [
        "a['a']['b']"
      ],
      "metadata": {
        "colab": {
          "base_uri": "https://localhost:8080/"
        },
        "id": "tFKMITTMtCbi",
        "outputId": "ca8c3b20-8fdd-46c2-b30e-ea4974fea5e7"
      },
      "execution_count": null,
      "outputs": [
        {
          "output_type": "execute_result",
          "data": {
            "text/plain": [
              "3"
            ]
          },
          "metadata": {},
          "execution_count": 10
        }
      ]
    },
    {
      "cell_type": "markdown",
      "metadata": {
        "id": "YUT2-1IFKpa-"
      },
      "source": [
        "Dictionaries are \n",
        "* accessed by key\n",
        "* unordered collections of arbitrary objects\n",
        "* variable-length, heterogeneous, and arbitrarily nestable\n",
        "* of the category \"mutable mapping\" \n"
      ]
    },
    {
      "cell_type": "markdown",
      "metadata": {
        "id": "VSdlu9B1KzRk"
      },
      "source": [
        "# Basics"
      ]
    },
    {
      "cell_type": "markdown",
      "metadata": {
        "id": "YALIbSuBj_8R"
      },
      "source": [
        "To declare a **dictionary** we enclose it in **curly braces**, `{}`. Each entry consists of a pair separated\n",
        "by a colon. The first part of the pair is called the **key** and the second is the **value**. The key acts like\n",
        "an *index*.\n",
        "\n",
        "Keys are often strings, but they can be integers, floats, and many other things as well. You can mix\n",
        "different types of keys in the same dictionary and different types of values, too."
      ]
    },
    {
      "cell_type": "code",
      "metadata": {
        "id": "w-4Y_XqsKzX7",
        "colab": {
          "base_uri": "https://localhost:8080/"
        },
        "outputId": "981896d1-88a0-4672-f8d7-ea25496f8f83"
      },
      "source": [
        "d = {'A': 100, 'B': 200}\n",
        "print(d['A'])"
      ],
      "execution_count": null,
      "outputs": [
        {
          "output_type": "stream",
          "name": "stdout",
          "text": [
            "100\n"
          ]
        }
      ]
    },
    {
      "cell_type": "markdown",
      "metadata": {
        "id": "Pmi5TRfUKzdI"
      },
      "source": [
        "We can change **dictionaries** in place, like we did with **lists**. For example, change the value of `A`"
      ]
    },
    {
      "cell_type": "code",
      "metadata": {
        "id": "zKsCP47AKzid",
        "colab": {
          "base_uri": "https://localhost:8080/"
        },
        "outputId": "21558392-43a2-438b-f69c-35f4172ec8da"
      },
      "source": [
        "d['A'] = 400\n",
        "print(d['A'])"
      ],
      "execution_count": null,
      "outputs": [
        {
          "output_type": "stream",
          "name": "stdout",
          "text": [
            "400\n"
          ]
        }
      ]
    },
    {
      "cell_type": "markdown",
      "metadata": {
        "id": "GAHHSkufKzn3"
      },
      "source": [
        "To add a new entry to the dictionary, we can just assign it, like below:"
      ]
    },
    {
      "cell_type": "code",
      "metadata": {
        "id": "NWfgSzI2Kztn",
        "colab": {
          "base_uri": "https://localhost:8080/"
        },
        "outputId": "83a6ed4e-f796-4e66-c880-d746a3223b61"
      },
      "source": [
        "d['C'] = 500\n",
        "print(d)"
      ],
      "execution_count": null,
      "outputs": [
        {
          "output_type": "stream",
          "name": "stdout",
          "text": [
            "{'A': 400, 'B': 200, 'C': 500}\n"
          ]
        }
      ]
    },
    {
      "cell_type": "markdown",
      "metadata": {
        "id": "sksQqWJeKzyb"
      },
      "source": [
        "Note that this does not work with lists, but it does work with dictionaries. To delete an entry from a dictionary, use the `del` operator:"
      ]
    },
    {
      "cell_type": "code",
      "metadata": {
        "id": "cZJBV2cMKz4E",
        "colab": {
          "base_uri": "https://localhost:8080/"
        },
        "outputId": "59b1a6a1-1303-4031-f92d-5e3599e01ab7"
      },
      "source": [
        "del d['A']\n",
        "print(d)"
      ],
      "execution_count": null,
      "outputs": [
        {
          "output_type": "stream",
          "name": "stdout",
          "text": [
            "{'B': 200, 'C': 500}\n"
          ]
        }
      ]
    },
    {
      "cell_type": "code",
      "metadata": {
        "id": "yDHkmSrWDX5z",
        "colab": {
          "base_uri": "https://localhost:8080/"
        },
        "outputId": "6694192b-fb32-4ddc-f8ae-fc69bf42e531"
      },
      "source": [
        "# number of elements\n",
        "len(d)"
      ],
      "execution_count": null,
      "outputs": [
        {
          "output_type": "execute_result",
          "data": {
            "text/plain": [
              "2"
            ]
          },
          "metadata": {},
          "execution_count": 15
        }
      ]
    },
    {
      "cell_type": "markdown",
      "metadata": {
        "id": "sbXUyN5DKz-H"
      },
      "source": [
        "**Empty dictionary** The empty dictionary is `{}`, which is the dictionary equivalent of `[]` for lists or `''` for strings.\n",
        "\n",
        "The **order** of items in a dictionary will not necessarily be the order in which put them into the dictionary. Internally, Python rearranges things in a dictionary in order to optimize\n",
        "performance."
      ]
    },
    {
      "cell_type": "code",
      "metadata": {
        "id": "bIo45CWkK0Dz",
        "colab": {
          "base_uri": "https://localhost:8080/"
        },
        "outputId": "9cda99d6-b3ab-4c07-de50-6512e8d374ee"
      },
      "source": [
        "# example\n",
        "weapon_caliber = {'AK-74': 5.45,\n",
        "                  'RPK-74': 5.45,\n",
        "                  'PK': 7.62,\n",
        "                  'SVD': 7.62}\n",
        "\n",
        "# fetch a value by key\n",
        "print(weapon_caliber['PK'])"
      ],
      "execution_count": null,
      "outputs": [
        {
          "output_type": "stream",
          "name": "stdout",
          "text": [
            "7.62\n"
          ]
        }
      ]
    },
    {
      "cell_type": "code",
      "metadata": {
        "id": "2w-nZA52K0H2",
        "colab": {
          "base_uri": "https://localhost:8080/",
          "height": 204
        },
        "outputId": "1133206f-06b8-45cd-d2a6-e5ee523cb61e"
      },
      "source": [
        "weapon = input('Enter a weapon name: ')\n",
        "print('The caliber is:', weapon_caliber[weapon])"
      ],
      "execution_count": null,
      "outputs": [
        {
          "name": "stdout",
          "output_type": "stream",
          "text": [
            "Enter a weapon name: RPG\n"
          ]
        },
        {
          "output_type": "error",
          "ename": "KeyError",
          "evalue": "ignored",
          "traceback": [
            "\u001b[0;31m---------------------------------------------------------------------------\u001b[0m",
            "\u001b[0;31mKeyError\u001b[0m                                  Traceback (most recent call last)",
            "\u001b[0;32m<ipython-input-18-27f496af23af>\u001b[0m in \u001b[0;36m<module>\u001b[0;34m\u001b[0m\n\u001b[1;32m      1\u001b[0m \u001b[0mweapon\u001b[0m \u001b[0;34m=\u001b[0m \u001b[0minput\u001b[0m\u001b[0;34m(\u001b[0m\u001b[0;34m'Enter a weapon name: '\u001b[0m\u001b[0;34m)\u001b[0m\u001b[0;34m\u001b[0m\u001b[0;34m\u001b[0m\u001b[0m\n\u001b[0;32m----> 2\u001b[0;31m \u001b[0mprint\u001b[0m\u001b[0;34m(\u001b[0m\u001b[0;34m'The caliber is:'\u001b[0m\u001b[0;34m,\u001b[0m \u001b[0mweapon_caliber\u001b[0m\u001b[0;34m[\u001b[0m\u001b[0mweapon\u001b[0m\u001b[0;34m]\u001b[0m\u001b[0;34m)\u001b[0m\u001b[0;34m\u001b[0m\u001b[0;34m\u001b[0m\u001b[0m\n\u001b[0m",
            "\u001b[0;31mKeyError\u001b[0m: 'RPG'"
          ]
        }
      ]
    },
    {
      "cell_type": "markdown",
      "metadata": {
        "id": "BTAGI0SbK0OO"
      },
      "source": [
        "**Copying dictionaries:** Just like for lists, making copies of dictionaries is a little tricky. To copy a dictionary, use its `copy()` method. Here is an example:"
      ]
    },
    {
      "cell_type": "code",
      "metadata": {
        "id": "23lmoO58KvQ-",
        "colab": {
          "base_uri": "https://localhost:8080/"
        },
        "outputId": "6d452c0e-fefe-4cef-d178-b17eb7b03d97"
      },
      "source": [
        "weapon_caliber2 = weapon_caliber.copy()\n",
        "weapon_caliber2['RPG-7'] = 40\n",
        "print(weapon_caliber2, weapon_caliber, sep='\\n')"
      ],
      "execution_count": null,
      "outputs": [
        {
          "output_type": "stream",
          "name": "stdout",
          "text": [
            "{'AK-74': 5.45, 'RPK-74': 5.45, 'PK': 7.62, 'SVD': 7.62, 'RPG-7': 40}\n",
            "{'AK-74': 5.45, 'RPK-74': 5.45, 'PK': 7.62, 'SVD': 7.62}\n"
          ]
        }
      ]
    },
    {
      "cell_type": "code",
      "metadata": {
        "id": "3Cj5OgV3KvWO",
        "colab": {
          "base_uri": "https://localhost:8080/"
        },
        "outputId": "194d31c7-94b9-4243-caf4-a116aeda9cc2"
      },
      "source": [
        "weapon_caliber3 = weapon_caliber\n",
        "weapon_caliber3['RPG-7'] = 40\n",
        "print(weapon_caliber3, weapon_caliber, sep='\\n')"
      ],
      "execution_count": null,
      "outputs": [
        {
          "output_type": "stream",
          "name": "stdout",
          "text": [
            "{'AK-74': 5.45, 'RPK-74': 5.45, 'PK': 7.62, 'SVD': 7.62, 'RPG-7': 40}\n",
            "{'AK-74': 5.45, 'RPK-74': 5.45, 'PK': 7.62, 'SVD': 7.62, 'RPG-7': 40}\n"
          ]
        }
      ]
    },
    {
      "cell_type": "markdown",
      "metadata": {
        "id": "31GIoNCBKvbs"
      },
      "source": [
        "`copy` method works on lists as well.\n",
        "\n",
        "Referring to a key that is not in the dictionary will produce an error. To prevent this error, we can use the **in** operator to check first if a key is in the dictionary\n",
        "before trying to use the key. Here is an example:"
      ]
    },
    {
      "cell_type": "code",
      "metadata": {
        "id": "1pEOOsgEDiDM",
        "colab": {
          "base_uri": "https://localhost:8080/"
        },
        "outputId": "447a6415-1735-4b3c-ba07-6219820c593d"
      },
      "source": [
        "# we can check whether the dictionary contains certain key\n",
        "print('AK' in weapon_caliber)\n",
        "print('AK-74' in weapon_caliber)"
      ],
      "execution_count": null,
      "outputs": [
        {
          "output_type": "stream",
          "name": "stdout",
          "text": [
            "False\n",
            "True\n"
          ]
        }
      ]
    },
    {
      "cell_type": "code",
      "metadata": {
        "id": "auGMLy5yKvg1",
        "colab": {
          "base_uri": "https://localhost:8080/"
        },
        "outputId": "f82c3a0a-ec2b-4f98-eef2-511961204622"
      },
      "source": [
        "weapon = input('Enter a weapon: ')\n",
        "if weapon in weapon_caliber:\n",
        "  print('The caliber is:', weapon_caliber[weapon])\n",
        "else:\n",
        "  print('Not in dictionary')"
      ],
      "execution_count": null,
      "outputs": [
        {
          "output_type": "stream",
          "name": "stdout",
          "text": [
            "Enter a weapon: AK-74\n",
            "The caliber is: 5.45\n"
          ]
        }
      ]
    },
    {
      "cell_type": "code",
      "metadata": {
        "id": "WEZIaPxKno86"
      },
      "source": [],
      "execution_count": null,
      "outputs": []
    },
    {
      "cell_type": "markdown",
      "metadata": {
        "id": "y1NU9OY_KvmN"
      },
      "source": [
        "**Looping:** Looping through dictionaries is similar to looping through lists. Here is an example that\n",
        "prints the keys in a dictionary:"
      ]
    },
    {
      "cell_type": "code",
      "metadata": {
        "id": "AqZEug4gKvrw",
        "colab": {
          "base_uri": "https://localhost:8080/"
        },
        "outputId": "15c21510-ad9c-4d7f-dda9-a73c6c525efa"
      },
      "source": [
        "for key in weapon_caliber:\n",
        "  print(key)\n",
        "\n",
        "# or\n",
        "# for key in weapon_caliber.keys():\n",
        "#   print(key)"
      ],
      "execution_count": null,
      "outputs": [
        {
          "output_type": "stream",
          "name": "stdout",
          "text": [
            "AK-74\n",
            "RPK-74\n",
            "PK\n",
            "SVD\n",
            "RPG-7\n"
          ]
        }
      ]
    },
    {
      "cell_type": "markdown",
      "metadata": {
        "id": "53XOKDNi0WF8"
      },
      "source": [
        "Here is an example that prints the values:"
      ]
    },
    {
      "cell_type": "code",
      "metadata": {
        "id": "bBXp7ZYzKvxC",
        "colab": {
          "base_uri": "https://localhost:8080/"
        },
        "outputId": "2f5acc02-ee79-4f75-d822-fd1bf15569e4"
      },
      "source": [
        "for key in weapon_caliber:\n",
        "  print(weapon_caliber[key])"
      ],
      "execution_count": null,
      "outputs": [
        {
          "output_type": "stream",
          "name": "stdout",
          "text": [
            "5.45\n",
            "5.45\n",
            "7.62\n",
            "7.62\n",
            "40\n"
          ]
        }
      ]
    },
    {
      "cell_type": "code",
      "metadata": {
        "id": "F0rCar_nkVIM",
        "colab": {
          "base_uri": "https://localhost:8080/"
        },
        "outputId": "fa3d7828-fcee-4d13-ca63-18edbfe849ee"
      },
      "source": [
        "for value in weapon_caliber.values():\n",
        "  print(value)"
      ],
      "execution_count": null,
      "outputs": [
        {
          "output_type": "stream",
          "name": "stdout",
          "text": [
            "5.45\n",
            "5.45\n",
            "7.62\n",
            "7.62\n",
            "40\n"
          ]
        }
      ]
    },
    {
      "cell_type": "markdown",
      "metadata": {
        "id": "ZcLzrs4pD-0t"
      },
      "source": [
        "# Dictionary methods"
      ]
    },
    {
      "cell_type": "markdown",
      "metadata": {
        "id": "6hyyQr0PKv2Z"
      },
      "source": [
        "We can get lists of keys and values\n",
        "from a dictionary. For example:"
      ]
    },
    {
      "cell_type": "code",
      "metadata": {
        "id": "Sdfa2qxOKv8R",
        "colab": {
          "base_uri": "https://localhost:8080/"
        },
        "outputId": "ae8e5927-f408-49e7-bfce-8e5afbe2a894"
      },
      "source": [
        "# getting the keys\n",
        "list(weapon_caliber)"
      ],
      "execution_count": null,
      "outputs": [
        {
          "output_type": "execute_result",
          "data": {
            "text/plain": [
              "['AK-74', 'RPK-74', 'PK', 'SVD', 'RPG-7']"
            ]
          },
          "metadata": {},
          "execution_count": 27
        }
      ]
    },
    {
      "cell_type": "code",
      "metadata": {
        "id": "0M-O6NozKwCE",
        "colab": {
          "base_uri": "https://localhost:8080/"
        },
        "outputId": "a458b1e7-b4a6-4282-8f14-15638892dc0e"
      },
      "source": [
        "# alternatively\n",
        "list(weapon_caliber.keys())"
      ],
      "execution_count": null,
      "outputs": [
        {
          "output_type": "execute_result",
          "data": {
            "text/plain": [
              "['AK-74', 'RPK-74', 'PK', 'SVD', 'RPG-7']"
            ]
          },
          "metadata": {},
          "execution_count": 28
        }
      ]
    },
    {
      "cell_type": "code",
      "metadata": {
        "id": "fLFlc_NrKwIE",
        "colab": {
          "base_uri": "https://localhost:8080/"
        },
        "outputId": "03d063c4-aa1f-4444-c115-f241b850ceee"
      },
      "source": [
        "# getting the values\n",
        "list(weapon_caliber.values())"
      ],
      "execution_count": null,
      "outputs": [
        {
          "output_type": "execute_result",
          "data": {
            "text/plain": [
              "[5.45, 5.45, 7.62, 7.62, 40]"
            ]
          },
          "metadata": {},
          "execution_count": 29
        }
      ]
    },
    {
      "cell_type": "code",
      "metadata": {
        "id": "PdWKPqw9KwOZ",
        "colab": {
          "base_uri": "https://localhost:8080/"
        },
        "outputId": "50fe0f87-a8ce-474a-babe-8805cda7ced3"
      },
      "source": [
        "# getting the (key, value) pairs as tuples\n",
        "list(weapon_caliber.items())"
      ],
      "execution_count": null,
      "outputs": [
        {
          "output_type": "execute_result",
          "data": {
            "text/plain": [
              "[('AK-74', 5.45), ('RPK-74', 5.45), ('PK', 7.62), ('SVD', 7.62), ('RPG-7', 40)]"
            ]
          },
          "metadata": {},
          "execution_count": 35
        }
      ]
    },
    {
      "cell_type": "code",
      "metadata": {
        "id": "Ahk1ZNsZEGBH",
        "colab": {
          "base_uri": "https://localhost:8080/"
        },
        "outputId": "664b9903-400a-438b-c8de-e113c25ffe52"
      },
      "source": [
        "# same as weapon_caliber['AK-74']\n",
        "weapon_caliber.get('AK-74')     "
      ],
      "execution_count": null,
      "outputs": [
        {
          "output_type": "execute_result",
          "data": {
            "text/plain": [
              "5.45"
            ]
          },
          "metadata": {},
          "execution_count": 36
        }
      ]
    },
    {
      "cell_type": "code",
      "metadata": {
        "id": "7t8xPKucEF0X",
        "colab": {
          "base_uri": "https://localhost:8080/"
        },
        "outputId": "24504fff-ba56-4a84-d060-7a2622121abc"
      },
      "source": [
        "# calling a key that doesn't exist\n",
        "print(weapon_caliber.get('AK'))     "
      ],
      "execution_count": null,
      "outputs": [
        {
          "output_type": "stream",
          "name": "stdout",
          "text": [
            "None\n"
          ]
        }
      ]
    },
    {
      "cell_type": "code",
      "metadata": {
        "id": "Bqdv7pQZEFor",
        "colab": {
          "base_uri": "https://localhost:8080/",
          "height": 168
        },
        "outputId": "a18cd3f8-9fe3-449a-81c0-789b5d7c8769"
      },
      "source": [
        "print(weapon_caliber['AK'])"
      ],
      "execution_count": null,
      "outputs": [
        {
          "output_type": "error",
          "ename": "KeyError",
          "evalue": "ignored",
          "traceback": [
            "\u001b[0;31m---------------------------------------------------------------------------\u001b[0m",
            "\u001b[0;31mKeyError\u001b[0m                                  Traceback (most recent call last)",
            "\u001b[0;32m<ipython-input-38-f027866e55f1>\u001b[0m in \u001b[0;36m<module>\u001b[0;34m\u001b[0m\n\u001b[0;32m----> 1\u001b[0;31m \u001b[0mprint\u001b[0m\u001b[0;34m(\u001b[0m\u001b[0mweapon_caliber\u001b[0m\u001b[0;34m[\u001b[0m\u001b[0;34m'AK'\u001b[0m\u001b[0;34m]\u001b[0m\u001b[0;34m)\u001b[0m\u001b[0;34m\u001b[0m\u001b[0;34m\u001b[0m\u001b[0m\n\u001b[0m",
            "\u001b[0;31mKeyError\u001b[0m: 'AK'"
          ]
        }
      ]
    },
    {
      "cell_type": "code",
      "metadata": {
        "id": "SrOyUVqREXXk",
        "colab": {
          "base_uri": "https://localhost:8080/"
        },
        "outputId": "9bb60c07-9e3b-4005-c589-01011e6ea78e"
      },
      "source": [
        "# returns the provided value\n",
        "# easy way to fill in a default for a key that isn't present\n",
        "print(weapon_caliber.get('AK', 'no such weapon found'))     "
      ],
      "execution_count": null,
      "outputs": [
        {
          "output_type": "stream",
          "name": "stdout",
          "text": [
            "no such weapon found\n"
          ]
        }
      ]
    },
    {
      "cell_type": "code",
      "metadata": {
        "id": "TifNmfqKzHro",
        "colab": {
          "base_uri": "https://localhost:8080/"
        },
        "outputId": "38213042-9552-41d9-a53e-94841fdfc9f6"
      },
      "source": [
        "# delete and return from a key\n",
        "weapon_caliber.pop('RPG-7')"
      ],
      "execution_count": null,
      "outputs": [
        {
          "output_type": "execute_result",
          "data": {
            "text/plain": [
              "40"
            ]
          },
          "metadata": {},
          "execution_count": 40
        }
      ]
    },
    {
      "cell_type": "code",
      "metadata": {
        "id": "dD8t9ExtzmqT",
        "colab": {
          "base_uri": "https://localhost:8080/"
        },
        "outputId": "9592a097-b67d-4d3f-f222-80f0ec794c12"
      },
      "source": [
        "print(weapon_caliber)"
      ],
      "execution_count": null,
      "outputs": [
        {
          "output_type": "stream",
          "name": "stdout",
          "text": [
            "{'AK-74': 5.45, 'RPK-74': 5.45, 'PK': 7.62, 'SVD': 7.62}\n"
          ]
        }
      ]
    },
    {
      "cell_type": "code",
      "metadata": {
        "id": "efzBmjDpEXfd",
        "colab": {
          "base_uri": "https://localhost:8080/"
        },
        "outputId": "825b4010-11ae-4912-dfad-126f3ba00632"
      },
      "source": [
        "# merging two different dictionaries\n",
        "other_weapon_caliber = {'AK-47': 7.62,\n",
        "                        'RPG-7': 40}   \n",
        "weapon_caliber.update(other_weapon_caliber)\n",
        "print(weapon_caliber)                        "
      ],
      "execution_count": null,
      "outputs": [
        {
          "output_type": "stream",
          "name": "stdout",
          "text": [
            "{'AK-74': 5.45, 'RPK-74': 100, 'PK': 7.62, 'SVD': 7.62, 'AK-47': 7.62, 'RPG-7': 40}\n"
          ]
        }
      ]
    },
    {
      "cell_type": "code",
      "metadata": {
        "id": "xID0qYQEEXmt",
        "colab": {
          "base_uri": "https://localhost:8080/"
        },
        "outputId": "f1e1a9f7-b7d4-4ec4-b0dc-5acc977a0db5"
      },
      "source": [
        "# display the dictionary in nicer way\n",
        "for key in weapon_caliber:  # Same as: for key in weapon_caliber.keys()\n",
        "  pri nt('{}\\t{}'.format(key, weapon_caliber[key]))  \n",
        "  # print(f'{key}\\t{weapon_caliber[key]}')"
      ],
      "execution_count": null,
      "outputs": [
        {
          "output_type": "stream",
          "name": "stdout",
          "text": [
            "AK-74\t5.45\n",
            "RPK-74\t100\n",
            "PK\t7.62\n",
            "SVD\t7.62\n",
            "AK-47\t7.62\n",
            "RPG-7\t40\n"
          ]
        }
      ]
    },
    {
      "cell_type": "code",
      "metadata": {
        "id": "wMrxB5xBFyaS",
        "colab": {
          "base_uri": "https://localhost:8080/"
        },
        "outputId": "efd4e24a-32c5-4293-90dc-e164ff7e118d"
      },
      "source": [
        "# fetch keys having the given value\n",
        "[key for key, value in weapon_caliber.items() if value > 7]"
      ],
      "execution_count": null,
      "outputs": [
        {
          "output_type": "execute_result",
          "data": {
            "text/plain": [
              "['RPK-74', 'PK', 'SVD', 'AK-47', 'RPG-7']"
            ]
          },
          "metadata": {},
          "execution_count": 52
        }
      ]
    },
    {
      "cell_type": "markdown",
      "metadata": {
        "id": "vxHqT91yKwUg"
      },
      "source": [
        "The **dict** function is another way to create a dictionary. Here are some ways to use it:"
      ]
    },
    {
      "cell_type": "code",
      "metadata": {
        "id": "KAosN2YinDfO",
        "colab": {
          "base_uri": "https://localhost:8080/",
          "height": 36
        },
        "outputId": "97f8b40c-7da8-473c-fd7d-d9b451baab9c"
      },
      "source": [
        "a = {1: 'A', 2: 'B'}\n",
        "a[1]"
      ],
      "execution_count": null,
      "outputs": [
        {
          "output_type": "execute_result",
          "data": {
            "text/plain": [
              "'A'"
            ],
            "application/vnd.google.colaboratory.intrinsic+json": {
              "type": "string"
            }
          },
          "metadata": {},
          "execution_count": 53
        }
      ]
    },
    {
      "cell_type": "code",
      "metadata": {
        "id": "Y3NNNX6bKwZ_",
        "colab": {
          "base_uri": "https://localhost:8080/"
        },
        "outputId": "376b3809-5a0d-4968-b6f8-094f7b488d62"
      },
      "source": [
        "d = dict(A=100, B=300)\n",
        "print(d)"
      ],
      "execution_count": null,
      "outputs": [
        {
          "output_type": "stream",
          "name": "stdout",
          "text": [
            "{'A': 100, 'B': 300}\n"
          ]
        }
      ]
    },
    {
      "cell_type": "code",
      "metadata": {
        "id": "_7_dWPGwKwfb",
        "colab": {
          "base_uri": "https://localhost:8080/"
        },
        "outputId": "de3e55e6-eabe-4d3f-f9c5-83310cd0cdd9"
      },
      "source": [
        "a = dict([('A', 100), ('B',300)])\n",
        "print(a)"
      ],
      "execution_count": null,
      "outputs": [
        {
          "output_type": "stream",
          "name": "stdout",
          "text": [
            "{'A': 100, 'B': 300}\n"
          ]
        }
      ]
    },
    {
      "cell_type": "code",
      "metadata": {
        "id": "6jrxxaVsKwlh",
        "colab": {
          "base_uri": "https://localhost:8080/"
        },
        "outputId": "7bc91116-72f3-44cc-dd37-c52036fa792f"
      },
      "source": [
        "keys_list = ['A', 'B', 'C', 'D']\n",
        "values_list = [1, 2, 3, 4]\n",
        "\n",
        "# zipping key/value lists = creating tuples of corresponding elements\n",
        "d = dict(zip(keys_list, values_list))\n",
        "d"
      ],
      "execution_count": null,
      "outputs": [
        {
          "output_type": "execute_result",
          "data": {
            "text/plain": [
              "{'A': 1, 'B': 2, 'C': 3, 'D': 4}"
            ]
          },
          "metadata": {},
          "execution_count": 60
        }
      ]
    },
    {
      "cell_type": "code",
      "source": [
        "keys_list = ['A', 'B', 'C', 'D']\n",
        "values_list = [1, 2, 3, 4, 5]"
      ],
      "metadata": {
        "id": "XcV7h-yBvscP"
      },
      "execution_count": null,
      "outputs": []
    },
    {
      "cell_type": "code",
      "source": [
        "list(zip(keys_list, values_list))"
      ],
      "metadata": {
        "colab": {
          "base_uri": "https://localhost:8080/"
        },
        "id": "7s0inZupvtos",
        "outputId": "eefb5228-bc0e-47d3-bfbd-61d47d99095c"
      },
      "execution_count": null,
      "outputs": [
        {
          "output_type": "execute_result",
          "data": {
            "text/plain": [
              "[('A', 1), ('B', 2), ('C', 3), ('D', 4)]"
            ]
          },
          "metadata": {},
          "execution_count": 65
        }
      ]
    },
    {
      "cell_type": "markdown",
      "metadata": {
        "id": "GOgU8LwxI8fZ"
      },
      "source": [
        "# Dictionary Comprehension"
      ]
    },
    {
      "cell_type": "code",
      "metadata": {
        "id": "R_FRwWrxKwrQ",
        "colab": {
          "base_uri": "https://localhost:8080/"
        },
        "outputId": "4e720535-0ca2-49cb-d131-6227a53e14ef"
      },
      "source": [
        "# dictionary comprehension form\n",
        "d = {k: 0 for k in keys_list}\n",
        "d  "
      ],
      "execution_count": null,
      "outputs": [
        {
          "output_type": "execute_result",
          "data": {
            "text/plain": [
              "{'A': 0, 'B': 0, 'C': 0, 'D': 0}"
            ]
          },
          "metadata": {},
          "execution_count": 62
        }
      ]
    },
    {
      "cell_type": "code",
      "metadata": {
        "id": "4mDKuX1nKwwl",
        "colab": {
          "base_uri": "https://localhost:8080/"
        },
        "outputId": "a8ddd6f1-ca38-452d-b09d-1a48833a59e0"
      },
      "source": [
        "d = {v**2: k for k, v in zip(keys_list, values_list) if v > 2}\n",
        "d"
      ],
      "execution_count": null,
      "outputs": [
        {
          "output_type": "execute_result",
          "data": {
            "text/plain": [
              "{9: 'C', 16: 'D'}"
            ]
          },
          "metadata": {},
          "execution_count": 66
        }
      ]
    },
    {
      "cell_type": "markdown",
      "metadata": {
        "id": "nlJguT7bKw2-"
      },
      "source": [
        "# Exercises"
      ]
    },
    {
      "cell_type": "markdown",
      "metadata": {
        "id": "sALI3aqDKw87"
      },
      "source": [
        "1. Write a program that repeatedly asks the user to enter product names and prices. Store all\n",
        "of these in a dictionary whose keys are the product names and whose values are the prices. After finishing the entering process, the user enters a dollar amount and the program should print the names of the products whose price is less than that amount.\n",
        "\n",
        "  Գրել ծրագիր, որը օգտատիրոջից վերցնում է ապրանքների անուններ և գներ, պահում այդ ամենը dictionary-ի մեջ, որտեղ բանալին ապրանքի անունն է, իսկ արժեքը ապրանքի գինն է։ Տվյալները մուտքագրելուց հետո օգտատերը մուտքագրում է դոլարային արժեք և ծրագիրը պետք է վերադարձնի այն ապրանքների անունները, որոնց գինը նշված գնից էժան են։"
      ]
    },
    {
      "cell_type": "code",
      "metadata": {
        "id": "TRkmbtljKxC2",
        "outputId": "a49d4dfe-1d76-41f9-9d6c-d5c6c4beb973",
        "colab": {
          "base_uri": "https://localhost:8080/"
        }
      },
      "source": [
        "dict_ = {}\n",
        "while True:\n",
        "  name = str(input(\"Input a product names (input <end> for end) - \"))\n",
        "  if name == 'end':\n",
        "    break\n",
        "  cost = int(input('Input a cost for that product - '))\n",
        "  dict_[name] = cost\n",
        "price = int(input('Input price - '))\n",
        "if dict_:\n",
        "  print(\"These products are cheep - \")\n",
        "  for i, j in dict_.items():\n",
        "    if j < price:\n",
        "      print({j},end=',')\n",
        "else:\n",
        "  print('You no have procucts:(')\n"
      ],
      "execution_count": null,
      "outputs": [
        {
          "output_type": "stream",
          "name": "stdout",
          "text": [
            "Input a product names (input <end> for end) - end\n",
            "Input price - 100\n",
            "You no have procucts:(\n"
          ]
        }
      ]
    },
    {
      "cell_type": "markdown",
      "metadata": {
        "id": "e1RVBF3SKxUR"
      },
      "source": [
        "2. Write a program to print a dictionary where the keys are numbers between 1 and 15 (both included) and the values are square of keys.\n",
        "\n",
        "  Գրել ծրագիր, որը կվերադարձնի dictionary, որտեղ բանալիները 1-ից 15 թվերն են, իսկ արժեքները՝ տվյալ թվերի քառակուսիները։"
      ]
    },
    {
      "cell_type": "code",
      "metadata": {
        "id": "yFOaaQyoKxaO",
        "outputId": "88c8a585-9778-4409-fa45-88f7067afde0",
        "colab": {
          "base_uri": "https://localhost:8080/"
        }
      },
      "source": [
        "my_dict = {i: i**2 for i in range(1, 16)}\n",
        "print(my_dict)"
      ],
      "execution_count": null,
      "outputs": [
        {
          "output_type": "stream",
          "name": "stdout",
          "text": [
            "{1: 1, 2: 4, 3: 9, 4: 16, 5: 25, 6: 36, 7: 49, 8: 64, 9: 81, 10: 100, 11: 121, 12: 144, 13: 169, 14: 196, 15: 225}\n"
          ]
        }
      ]
    },
    {
      "cell_type": "markdown",
      "metadata": {
        "id": "sRg3ibGkKxfp"
      },
      "source": [
        "3. Write a program to combine two given dictionaries by adding values for common keys. For example: \n",
        "\n",
        "  Գրել ծրագիր, որը կմիավորի տրված երկու dictionary-ները, այնպես, որ կրկնվող բանալիներով արժեքները գումարվեն իրար։ Օրինակ այսպես՝\n",
        "\n",
        "`d1 = {'a': 100, 'b': 200, 'c':300}`\n",
        "\n",
        "`d2 = {'a': 300, 'b': 200, 'd':400}`\n",
        "\n",
        "Output: `{'a': 400, 'b': 400, 'd': 400, 'c': 300}`"
      ]
    },
    {
      "cell_type": "code",
      "metadata": {
        "id": "1_u8EPvtKxlt",
        "outputId": "0180124f-f423-4d50-d510-c844e562fefc",
        "colab": {
          "base_uri": "https://localhost:8080/"
        }
      },
      "source": [
        "d1 = {'a': 100, 'b': 200, 'c':300}\n",
        "d2 = {'a': 300, 'b': 200, 'd':400}\n",
        "d3 = d1.copy()\n",
        "d3.update(d2)\n",
        "for key in d1:\n",
        "  for key2 in d2:\n",
        "    if key == key2:\n",
        "      d3[key] = d1[key] + d2[key2]\n",
        "print(d3)"
      ],
      "execution_count": null,
      "outputs": [
        {
          "output_type": "stream",
          "name": "stdout",
          "text": [
            "2\n",
            "2\n",
            "{'a': 400, 'b': 400, 'c': 300, 'd': 400}\n"
          ]
        }
      ]
    }
  ]
}